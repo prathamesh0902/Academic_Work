{
 "cells": [
  {
   "cell_type": "code",
   "execution_count": 1,
   "metadata": {},
   "outputs": [],
   "source": [
    "import numpy as np\n",
    "import pandas as pd\n",
    "\n",
    "from sklearn.model_selection import train_test_split\n",
    "from sklearn.preprocessing import PolynomialFeatures\n",
    "from sklearn.linear_model import Ridge\n",
    "from sklearn.svm import SVR\n",
    "from sklearn.linear_model import LinearRegression\n",
    "from sklearn.preprocessing import StandardScaler\n",
    "from sklearn.pipeline import Pipeline\n",
    "from sklearn.model_selection import KFold\n",
    "from sklearn.linear_model import LogisticRegression\n",
    "from sklearn.metrics import mean_squared_error\n",
    "\n",
    "# import xgboost as xgb\n",
    "\n",
    "import matplotlib.pyplot as plt\n",
    "# plt.style.use(\"dark_background\")\n",
    "import seaborn as sns\n",
    "# import plotly.express as px\n",
    "import warnings\n",
    "warnings.filterwarnings('ignore')\n",
    "\n",
    "# reviews_sample.columns.str.strip().str.lower().str.replace(' ', '_')"
   ]
  },
  {
   "cell_type": "markdown",
   "metadata": {},
   "source": [
    "# Part 2: Exploratory Social Network Analysis [20 points]"
   ]
  },
  {
   "cell_type": "markdown",
   "metadata": {},
   "source": [
    "### (a) Load the directed network graph (G) from the file amazonNetwork.csv and draw a graph of the network. [2 points]"
   ]
  },
  {
   "cell_type": "code",
   "execution_count": 2,
   "metadata": {},
   "outputs": [
    {
     "data": {
      "text/html": [
       "<div>\n",
       "<style scoped>\n",
       "    .dataframe tbody tr th:only-of-type {\n",
       "        vertical-align: middle;\n",
       "    }\n",
       "\n",
       "    .dataframe tbody tr th {\n",
       "        vertical-align: top;\n",
       "    }\n",
       "\n",
       "    .dataframe thead th {\n",
       "        text-align: right;\n",
       "    }\n",
       "</style>\n",
       "<table border=\"1\" class=\"dataframe\">\n",
       "  <thead>\n",
       "    <tr style=\"text-align: right;\">\n",
       "      <th></th>\n",
       "      <th>FromNodeId</th>\n",
       "      <th>ToNodeId</th>\n",
       "    </tr>\n",
       "  </thead>\n",
       "  <tbody>\n",
       "    <tr>\n",
       "      <th>0</th>\n",
       "      <td>1</td>\n",
       "      <td>2</td>\n",
       "    </tr>\n",
       "    <tr>\n",
       "      <th>1</th>\n",
       "      <td>1</td>\n",
       "      <td>4</td>\n",
       "    </tr>\n",
       "    <tr>\n",
       "      <th>2</th>\n",
       "      <td>1</td>\n",
       "      <td>5</td>\n",
       "    </tr>\n",
       "    <tr>\n",
       "      <th>3</th>\n",
       "      <td>1</td>\n",
       "      <td>15</td>\n",
       "    </tr>\n",
       "    <tr>\n",
       "      <th>4</th>\n",
       "      <td>2</td>\n",
       "      <td>11</td>\n",
       "    </tr>\n",
       "    <tr>\n",
       "      <th>...</th>\n",
       "      <td>...</td>\n",
       "      <td>...</td>\n",
       "    </tr>\n",
       "    <tr>\n",
       "      <th>10836</th>\n",
       "      <td>2646</td>\n",
       "      <td>980</td>\n",
       "    </tr>\n",
       "    <tr>\n",
       "      <th>10837</th>\n",
       "      <td>2647</td>\n",
       "      <td>881</td>\n",
       "    </tr>\n",
       "    <tr>\n",
       "      <th>10838</th>\n",
       "      <td>2647</td>\n",
       "      <td>976</td>\n",
       "    </tr>\n",
       "    <tr>\n",
       "      <th>10839</th>\n",
       "      <td>2647</td>\n",
       "      <td>978</td>\n",
       "    </tr>\n",
       "    <tr>\n",
       "      <th>10840</th>\n",
       "      <td>2647</td>\n",
       "      <td>979</td>\n",
       "    </tr>\n",
       "  </tbody>\n",
       "</table>\n",
       "<p>10841 rows × 2 columns</p>\n",
       "</div>"
      ],
      "text/plain": [
       "       FromNodeId  ToNodeId\n",
       "0               1         2\n",
       "1               1         4\n",
       "2               1         5\n",
       "3               1        15\n",
       "4               2        11\n",
       "...           ...       ...\n",
       "10836        2646       980\n",
       "10837        2647       881\n",
       "10838        2647       976\n",
       "10839        2647       978\n",
       "10840        2647       979\n",
       "\n",
       "[10841 rows x 2 columns]"
      ]
     },
     "execution_count": 2,
     "metadata": {},
     "output_type": "execute_result"
    }
   ],
   "source": [
    "# loading the data\n",
    "amz = pd.read_csv(\"amazonNetwork.csv\")\n",
    "amz"
   ]
  },
  {
   "cell_type": "code",
   "execution_count": 3,
   "metadata": {},
   "outputs": [],
   "source": [
    "# %pip install networkx\n",
    "# %pip install networkx==2.5\n",
    "import networkx as nx"
   ]
  },
  {
   "cell_type": "code",
   "execution_count": 4,
   "metadata": {},
   "outputs": [
    {
     "name": "stdout",
     "output_type": "stream",
     "text": [
      "Networkx version:  2.5\n"
     ]
    }
   ],
   "source": [
    "# version of networkx\n",
    "print(\"Networkx version: \", nx.__version__)"
   ]
  },
  {
   "cell_type": "code",
   "execution_count": 5,
   "metadata": {},
   "outputs": [
    {
     "data": {
      "text/html": [
       "<div>\n",
       "<style scoped>\n",
       "    .dataframe tbody tr th:only-of-type {\n",
       "        vertical-align: middle;\n",
       "    }\n",
       "\n",
       "    .dataframe tbody tr th {\n",
       "        vertical-align: top;\n",
       "    }\n",
       "\n",
       "    .dataframe thead th {\n",
       "        text-align: right;\n",
       "    }\n",
       "</style>\n",
       "<table border=\"1\" class=\"dataframe\">\n",
       "  <thead>\n",
       "    <tr style=\"text-align: right;\">\n",
       "      <th></th>\n",
       "      <th>FromNodeId</th>\n",
       "      <th>ToNodeId</th>\n",
       "      <th>Count</th>\n",
       "    </tr>\n",
       "  </thead>\n",
       "  <tbody>\n",
       "    <tr>\n",
       "      <th>845</th>\n",
       "      <td>174</td>\n",
       "      <td>95</td>\n",
       "      <td>1</td>\n",
       "    </tr>\n",
       "    <tr>\n",
       "      <th>8615</th>\n",
       "      <td>1985</td>\n",
       "      <td>518</td>\n",
       "      <td>1</td>\n",
       "    </tr>\n",
       "    <tr>\n",
       "      <th>5897</th>\n",
       "      <td>1275</td>\n",
       "      <td>1274</td>\n",
       "      <td>1</td>\n",
       "    </tr>\n",
       "  </tbody>\n",
       "</table>\n",
       "</div>"
      ],
      "text/plain": [
       "      FromNodeId  ToNodeId  Count\n",
       "845          174        95      1\n",
       "8615        1985       518      1\n",
       "5897        1275      1274      1"
      ]
     },
     "execution_count": 5,
     "metadata": {},
     "output_type": "execute_result"
    }
   ],
   "source": [
    "# group by source and target and count the number of co-purchases\n",
    "amz_grouped = amz.groupby(['FromNodeId', 'ToNodeId']).size().reset_index(name='Count')\n",
    "amz_grouped.sample(3)"
   ]
  },
  {
   "cell_type": "code",
   "execution_count": 6,
   "metadata": {},
   "outputs": [],
   "source": [
    "G = nx.from_pandas_edgelist(amz_grouped, 'FromNodeId', 'ToNodeId', edge_attr='Count', create_using=nx.DiGraph())"
   ]
  },
  {
   "cell_type": "code",
   "execution_count": 7,
   "metadata": {},
   "outputs": [
    {
     "data": {
      "image/png": "[encoded data removed]",
      "text/plain": [
       "<Figure size 640x480 with 1 Axes>"
      ]
     },
     "metadata": {},
     "output_type": "display_data"
    }
   ],
   "source": [
    "nx.draw_networkx(G)"
   ]
  },
  {
   "cell_type": "markdown",
   "metadata": {},
   "source": [
    "### (b) How many items are present in the network and how many co-purchases happened? [2 points]"
   ]
  },
  {
   "cell_type": "code",
   "execution_count": 8,
   "metadata": {},
   "outputs": [
    {
     "name": "stdout",
     "output_type": "stream",
     "text": [
      "Number of items present in the network:  2647\n"
     ]
    }
   ],
   "source": [
    "# create a list of nodes\n",
    "nodes = list(amz.FromNodeId) + list(amz.ToNodeId)\n",
    "nodes = list(set(nodes))\n",
    "print(\"Number of items present in the network: \", len(nodes))"
   ]
  },
  {
   "cell_type": "code",
   "execution_count": 9,
   "metadata": {},
   "outputs": [
    {
     "name": "stdout",
     "output_type": "stream",
     "text": [
      "There are only single edges.\n"
     ]
    }
   ],
   "source": [
    "# are there any non-single edges?\n",
    "if amz_grouped[amz_grouped.Count > 1].empty:\n",
    "    print(\"There are only single edges.\")\n",
    "else:\n",
    "    print(\"There are non-single edges.\")"
   ]
  },
  {
   "cell_type": "code",
   "execution_count": 10,
   "metadata": {},
   "outputs": [
    {
     "name": "stdout",
     "output_type": "stream",
     "text": [
      "There are no self-loops.\n"
     ]
    }
   ],
   "source": [
    "# are there any self-loops?\n",
    "if amz_grouped[amz_grouped.FromNodeId == amz_grouped.ToNodeId].empty:\n",
    "    print(\"There are no self-loops.\")\n",
    "else:\n",
    "    print(\"There are self-loops.\")"
   ]
  },
  {
   "cell_type": "code",
   "execution_count": 11,
   "metadata": {},
   "outputs": [
    {
     "name": "stdout",
     "output_type": "stream",
     "text": [
      "Number of co-purchases:  10841\n"
     ]
    }
   ],
   "source": [
    "# no of co-purchases\n",
    "print(\"Number of co-purchases: \", len(amz_grouped))"
   ]
  },
  {
   "cell_type": "markdown",
   "metadata": {},
   "source": [
    "As there are no self loops and all transactions are unique, the count of total transactions is the number of co-purchases."
   ]
  },
  {
   "cell_type": "code",
   "execution_count": 12,
   "metadata": {},
   "outputs": [
    {
     "data": {
      "text/plain": [
       "True"
      ]
     },
     "execution_count": 12,
     "metadata": {},
     "output_type": "execute_result"
    }
   ],
   "source": [
    "nx.is_directed(G)"
   ]
  },
  {
   "cell_type": "code",
   "execution_count": 13,
   "metadata": {},
   "outputs": [
    {
     "name": "stdout",
     "output_type": "stream",
     "text": [
      "Number of items present in the network:  2647\n",
      "Number of co-purchases:  10841\n"
     ]
    }
   ],
   "source": [
    "print(\"Number of items present in the network: \", G.number_of_nodes())\n",
    "print(\"Number of co-purchases: \", G.number_of_edges())"
   ]
  },
  {
   "cell_type": "markdown",
   "metadata": {},
   "source": [
    "### (c) Compute the average shortest distance between the nodes in graph G. Explain your results briefly. [2 points]"
   ]
  },
  {
   "cell_type": "code",
   "execution_count": 14,
   "metadata": {},
   "outputs": [
    {
     "name": "stdout",
     "output_type": "stream",
     "text": [
      "Average shortest distance:  9.592795477759587\n"
     ]
    }
   ],
   "source": [
    "# Calculate average shortest distance\n",
    "print(\"Average shortest distance: \", nx.average_shortest_path_length(G))"
   ]
  },
  {
   "cell_type": "markdown",
   "metadata": {},
   "source": [
    "### (d) Compute the transitivity, the average clustering coefficient, density, and degree assortativity of the network graph G. Explain your findings briefly based on the definitions. [4 points]"
   ]
  },
  {
   "cell_type": "code",
   "execution_count": 15,
   "metadata": {},
   "outputs": [
    {
     "name": "stdout",
     "output_type": "stream",
     "text": [
      "Transitivity:  0.4339169154480595\n",
      "Average clustering coefficient:  0.4086089178720651\n",
      "Density:  0.0015478382092878288\n",
      "Degree assortativity coefficient: 0.060674284680185056\n"
     ]
    }
   ],
   "source": [
    "# transitivity\n",
    "transitivity = nx.transitivity(G)\n",
    "\n",
    "# average clustering coefficient\n",
    "avg_clustering_coefficient = nx.average_clustering(G)\n",
    "\n",
    "# density\n",
    "density = nx.density(G)\n",
    "\n",
    "# degree assortativity coefficient\n",
    "assortativity_coefficient = nx.degree_assortativity_coefficient(G)\n",
    "\n",
    "print(\"Transitivity: \", transitivity)\n",
    "print(\"Average clustering coefficient: \", avg_clustering_coefficient)\n",
    "print(\"Density: \", density)\n",
    "print(\"Degree assortativity coefficient:\", assortativity_coefficient)"
   ]
  },
  {
   "cell_type": "markdown",
   "metadata": {},
   "source": [
    "### (e) Apply the PageRank algorithm to network G with damping value 0.5 and find the 10 nodes with the highest PageRank. Explain your findings briefly. [5 points]"
   ]
  },
  {
   "cell_type": "code",
   "execution_count": 16,
   "metadata": {},
   "outputs": [
    {
     "data": {
      "text/html": [
       "<div>\n",
       "<style scoped>\n",
       "    .dataframe tbody tr th:only-of-type {\n",
       "        vertical-align: middle;\n",
       "    }\n",
       "\n",
       "    .dataframe tbody tr th {\n",
       "        vertical-align: top;\n",
       "    }\n",
       "\n",
       "    .dataframe thead th {\n",
       "        text-align: right;\n",
       "    }\n",
       "</style>\n",
       "<table border=\"1\" class=\"dataframe\">\n",
       "  <thead>\n",
       "    <tr style=\"text-align: right;\">\n",
       "      <th></th>\n",
       "      <th>Node</th>\n",
       "      <th>PageRank</th>\n",
       "    </tr>\n",
       "  </thead>\n",
       "  <tbody>\n",
       "    <tr>\n",
       "      <th>21</th>\n",
       "      <td>8</td>\n",
       "      <td>0.003625</td>\n",
       "    </tr>\n",
       "    <tr>\n",
       "      <th>397</th>\n",
       "      <td>481</td>\n",
       "      <td>0.002434</td>\n",
       "    </tr>\n",
       "    <tr>\n",
       "      <th>55</th>\n",
       "      <td>33</td>\n",
       "      <td>0.002297</td>\n",
       "    </tr>\n",
       "    <tr>\n",
       "      <th>18</th>\n",
       "      <td>18</td>\n",
       "      <td>0.002103</td>\n",
       "    </tr>\n",
       "    <tr>\n",
       "      <th>29</th>\n",
       "      <td>23</td>\n",
       "      <td>0.002079</td>\n",
       "    </tr>\n",
       "    <tr>\n",
       "      <th>25</th>\n",
       "      <td>30</td>\n",
       "      <td>0.001882</td>\n",
       "    </tr>\n",
       "    <tr>\n",
       "      <th>390</th>\n",
       "      <td>346</td>\n",
       "      <td>0.001863</td>\n",
       "    </tr>\n",
       "    <tr>\n",
       "      <th>147</th>\n",
       "      <td>99</td>\n",
       "      <td>0.001820</td>\n",
       "    </tr>\n",
       "    <tr>\n",
       "      <th>101</th>\n",
       "      <td>93</td>\n",
       "      <td>0.001792</td>\n",
       "    </tr>\n",
       "    <tr>\n",
       "      <th>27</th>\n",
       "      <td>21</td>\n",
       "      <td>0.001659</td>\n",
       "    </tr>\n",
       "  </tbody>\n",
       "</table>\n",
       "</div>"
      ],
      "text/plain": [
       "     Node  PageRank\n",
       "21      8  0.003625\n",
       "397   481  0.002434\n",
       "55     33  0.002297\n",
       "18     18  0.002103\n",
       "29     23  0.002079\n",
       "25     30  0.001882\n",
       "390   346  0.001863\n",
       "147    99  0.001820\n",
       "101    93  0.001792\n",
       "27     21  0.001659"
      ]
     },
     "execution_count": 16,
     "metadata": {},
     "output_type": "execute_result"
    }
   ],
   "source": [
    "pagerank = nx.pagerank(G, alpha=0.5)\n",
    "pagerank = pd.DataFrame(pagerank.items(), columns=['Node', 'PageRank'])\n",
    "pagerank = pagerank.sort_values(by=['PageRank'], ascending=False)\n",
    "pagerank.head(10)"
   ]
  },
  {
   "cell_type": "markdown",
   "metadata": {},
   "source": [
    "### (f) Perform the average neighbor degree, closeness centrality, and edge betweenness centrality. Report the top 10 results with the highest value for each analysis and briefly explain your findings. [5 points]"
   ]
  },
  {
   "cell_type": "code",
   "execution_count": 17,
   "metadata": {},
   "outputs": [
    {
     "data": {
      "text/html": [
       "<div>\n",
       "<style scoped>\n",
       "    .dataframe tbody tr th:only-of-type {\n",
       "        vertical-align: middle;\n",
       "    }\n",
       "\n",
       "    .dataframe tbody tr th {\n",
       "        vertical-align: top;\n",
       "    }\n",
       "\n",
       "    .dataframe thead th {\n",
       "        text-align: right;\n",
       "    }\n",
       "</style>\n",
       "<table border=\"1\" class=\"dataframe\">\n",
       "  <thead>\n",
       "    <tr style=\"text-align: right;\">\n",
       "      <th></th>\n",
       "      <th>Node</th>\n",
       "      <th>AvgNeighborDegree</th>\n",
       "    </tr>\n",
       "  </thead>\n",
       "  <tbody>\n",
       "    <tr>\n",
       "      <th>1323</th>\n",
       "      <td>1766</td>\n",
       "      <td>5.0</td>\n",
       "    </tr>\n",
       "    <tr>\n",
       "      <th>859</th>\n",
       "      <td>570</td>\n",
       "      <td>5.0</td>\n",
       "    </tr>\n",
       "    <tr>\n",
       "      <th>867</th>\n",
       "      <td>772</td>\n",
       "      <td>5.0</td>\n",
       "    </tr>\n",
       "    <tr>\n",
       "      <th>1927</th>\n",
       "      <td>1497</td>\n",
       "      <td>5.0</td>\n",
       "    </tr>\n",
       "    <tr>\n",
       "      <th>1930</th>\n",
       "      <td>1500</td>\n",
       "      <td>5.0</td>\n",
       "    </tr>\n",
       "    <tr>\n",
       "      <th>1940</th>\n",
       "      <td>1957</td>\n",
       "      <td>5.0</td>\n",
       "    </tr>\n",
       "    <tr>\n",
       "      <th>863</th>\n",
       "      <td>827</td>\n",
       "      <td>5.0</td>\n",
       "    </tr>\n",
       "    <tr>\n",
       "      <th>861</th>\n",
       "      <td>770</td>\n",
       "      <td>5.0</td>\n",
       "    </tr>\n",
       "    <tr>\n",
       "      <th>1943</th>\n",
       "      <td>1961</td>\n",
       "      <td>5.0</td>\n",
       "    </tr>\n",
       "    <tr>\n",
       "      <th>858</th>\n",
       "      <td>1670</td>\n",
       "      <td>5.0</td>\n",
       "    </tr>\n",
       "  </tbody>\n",
       "</table>\n",
       "</div>"
      ],
      "text/plain": [
       "      Node  AvgNeighborDegree\n",
       "1323  1766                5.0\n",
       "859    570                5.0\n",
       "867    772                5.0\n",
       "1927  1497                5.0\n",
       "1930  1500                5.0\n",
       "1940  1957                5.0\n",
       "863    827                5.0\n",
       "861    770                5.0\n",
       "1943  1961                5.0\n",
       "858   1670                5.0"
      ]
     },
     "execution_count": 17,
     "metadata": {},
     "output_type": "execute_result"
    }
   ],
   "source": [
    "# average neighbor degree\n",
    "avg_neighbor_degree = nx.average_neighbor_degree(G)\n",
    "avg_neighbor_degree = pd.DataFrame(avg_neighbor_degree.items(), columns=['Node', 'AvgNeighborDegree'])\n",
    "avg_neighbor_degree.sort_values(by=['AvgNeighborDegree'], ascending=False).head(10)"
   ]
  },
  {
   "cell_type": "code",
   "execution_count": 18,
   "metadata": {},
   "outputs": [
    {
     "data": {
      "text/html": [
       "<div>\n",
       "<style scoped>\n",
       "    .dataframe tbody tr th:only-of-type {\n",
       "        vertical-align: middle;\n",
       "    }\n",
       "\n",
       "    .dataframe tbody tr th {\n",
       "        vertical-align: top;\n",
       "    }\n",
       "\n",
       "    .dataframe thead th {\n",
       "        text-align: right;\n",
       "    }\n",
       "</style>\n",
       "<table border=\"1\" class=\"dataframe\">\n",
       "  <thead>\n",
       "    <tr style=\"text-align: right;\">\n",
       "      <th></th>\n",
       "      <th>Node</th>\n",
       "      <th>ClosenessCentrality</th>\n",
       "    </tr>\n",
       "  </thead>\n",
       "  <tbody>\n",
       "    <tr>\n",
       "      <th>21</th>\n",
       "      <td>8</td>\n",
       "      <td>0.195165</td>\n",
       "    </tr>\n",
       "    <tr>\n",
       "      <th>29</th>\n",
       "      <td>23</td>\n",
       "      <td>0.169903</td>\n",
       "    </tr>\n",
       "    <tr>\n",
       "      <th>27</th>\n",
       "      <td>21</td>\n",
       "      <td>0.169572</td>\n",
       "    </tr>\n",
       "    <tr>\n",
       "      <th>7</th>\n",
       "      <td>13</td>\n",
       "      <td>0.167177</td>\n",
       "    </tr>\n",
       "    <tr>\n",
       "      <th>25</th>\n",
       "      <td>30</td>\n",
       "      <td>0.163012</td>\n",
       "    </tr>\n",
       "    <tr>\n",
       "      <th>28</th>\n",
       "      <td>22</td>\n",
       "      <td>0.162313</td>\n",
       "    </tr>\n",
       "    <tr>\n",
       "      <th>55</th>\n",
       "      <td>33</td>\n",
       "      <td>0.160985</td>\n",
       "    </tr>\n",
       "    <tr>\n",
       "      <th>24</th>\n",
       "      <td>20</td>\n",
       "      <td>0.159604</td>\n",
       "    </tr>\n",
       "    <tr>\n",
       "      <th>30</th>\n",
       "      <td>24</td>\n",
       "      <td>0.157453</td>\n",
       "    </tr>\n",
       "    <tr>\n",
       "      <th>65</th>\n",
       "      <td>111</td>\n",
       "      <td>0.151386</td>\n",
       "    </tr>\n",
       "  </tbody>\n",
       "</table>\n",
       "</div>"
      ],
      "text/plain": [
       "    Node  ClosenessCentrality\n",
       "21     8             0.195165\n",
       "29    23             0.169903\n",
       "27    21             0.169572\n",
       "7     13             0.167177\n",
       "25    30             0.163012\n",
       "28    22             0.162313\n",
       "55    33             0.160985\n",
       "24    20             0.159604\n",
       "30    24             0.157453\n",
       "65   111             0.151386"
      ]
     },
     "execution_count": 18,
     "metadata": {},
     "output_type": "execute_result"
    }
   ],
   "source": [
    "# closeness centrality\n",
    "closeness_centrality = nx.closeness_centrality(G)\n",
    "closeness_centrality = pd.DataFrame(closeness_centrality.items(), columns=['Node', 'ClosenessCentrality'])\n",
    "closeness_centrality.sort_values(by=['ClosenessCentrality'], ascending=False).head(10)"
   ]
  },
  {
   "cell_type": "code",
   "execution_count": 19,
   "metadata": {},
   "outputs": [
    {
     "data": {
      "text/html": [
       "<div>\n",
       "<style scoped>\n",
       "    .dataframe tbody tr th:only-of-type {\n",
       "        vertical-align: middle;\n",
       "    }\n",
       "\n",
       "    .dataframe tbody tr th {\n",
       "        vertical-align: top;\n",
       "    }\n",
       "\n",
       "    .dataframe thead th {\n",
       "        text-align: right;\n",
       "    }\n",
       "</style>\n",
       "<table border=\"1\" class=\"dataframe\">\n",
       "  <thead>\n",
       "    <tr style=\"text-align: right;\">\n",
       "      <th></th>\n",
       "      <th>Node</th>\n",
       "      <th>EdgeBetweennessCentrality</th>\n",
       "    </tr>\n",
       "  </thead>\n",
       "  <tbody>\n",
       "    <tr>\n",
       "      <th>88</th>\n",
       "      <td>(18, 32)</td>\n",
       "      <td>0.080285</td>\n",
       "    </tr>\n",
       "    <tr>\n",
       "      <th>1922</th>\n",
       "      <td>(481, 18)</td>\n",
       "      <td>0.078336</td>\n",
       "    </tr>\n",
       "    <tr>\n",
       "      <th>546</th>\n",
       "      <td>(97, 117)</td>\n",
       "      <td>0.077862</td>\n",
       "    </tr>\n",
       "    <tr>\n",
       "      <th>256</th>\n",
       "      <td>(32, 150)</td>\n",
       "      <td>0.063998</td>\n",
       "    </tr>\n",
       "    <tr>\n",
       "      <th>105</th>\n",
       "      <td>(8, 22)</td>\n",
       "      <td>0.057861</td>\n",
       "    </tr>\n",
       "    <tr>\n",
       "      <th>928</th>\n",
       "      <td>(170, 214)</td>\n",
       "      <td>0.050606</td>\n",
       "    </tr>\n",
       "    <tr>\n",
       "      <th>515</th>\n",
       "      <td>(54, 84)</td>\n",
       "      <td>0.049810</td>\n",
       "    </tr>\n",
       "    <tr>\n",
       "      <th>1596</th>\n",
       "      <td>(214, 651)</td>\n",
       "      <td>0.049565</td>\n",
       "    </tr>\n",
       "    <tr>\n",
       "      <th>251</th>\n",
       "      <td>(31, 85)</td>\n",
       "      <td>0.048332</td>\n",
       "    </tr>\n",
       "    <tr>\n",
       "      <th>295</th>\n",
       "      <td>(37, 97)</td>\n",
       "      <td>0.045669</td>\n",
       "    </tr>\n",
       "  </tbody>\n",
       "</table>\n",
       "</div>"
      ],
      "text/plain": [
       "            Node  EdgeBetweennessCentrality\n",
       "88      (18, 32)                   0.080285\n",
       "1922   (481, 18)                   0.078336\n",
       "546    (97, 117)                   0.077862\n",
       "256    (32, 150)                   0.063998\n",
       "105      (8, 22)                   0.057861\n",
       "928   (170, 214)                   0.050606\n",
       "515     (54, 84)                   0.049810\n",
       "1596  (214, 651)                   0.049565\n",
       "251     (31, 85)                   0.048332\n",
       "295     (37, 97)                   0.045669"
      ]
     },
     "execution_count": 19,
     "metadata": {},
     "output_type": "execute_result"
    }
   ],
   "source": [
    "# edge betweenness centrality\n",
    "edge_betweenness_centrality = nx.edge_betweenness_centrality(G)\n",
    "edge_betweenness_centrality = pd.DataFrame(edge_betweenness_centrality.items(), columns=['Node', 'EdgeBetweennessCentrality'])\n",
    "edge_betweenness_centrality.sort_values(by=['EdgeBetweennessCentrality'], ascending=False).head(10)"
   ]
  },
  {
   "cell_type": "code",
   "execution_count": 20,
   "metadata": {},
   "outputs": [
    {
     "data": {
      "text/html": [
       "<div>\n",
       "<style scoped>\n",
       "    .dataframe tbody tr th:only-of-type {\n",
       "        vertical-align: middle;\n",
       "    }\n",
       "\n",
       "    .dataframe tbody tr th {\n",
       "        vertical-align: top;\n",
       "    }\n",
       "\n",
       "    .dataframe thead th {\n",
       "        text-align: right;\n",
       "    }\n",
       "</style>\n",
       "<table border=\"1\" class=\"dataframe\">\n",
       "  <thead>\n",
       "    <tr style=\"text-align: right;\">\n",
       "      <th></th>\n",
       "      <th>Node</th>\n",
       "      <th>NodeBetweennessCentrality</th>\n",
       "    </tr>\n",
       "  </thead>\n",
       "  <tbody>\n",
       "    <tr>\n",
       "      <th>18</th>\n",
       "      <td>18</td>\n",
       "      <td>0.147551</td>\n",
       "    </tr>\n",
       "    <tr>\n",
       "      <th>21</th>\n",
       "      <td>8</td>\n",
       "      <td>0.140649</td>\n",
       "    </tr>\n",
       "    <tr>\n",
       "      <th>113</th>\n",
       "      <td>97</td>\n",
       "      <td>0.128843</td>\n",
       "    </tr>\n",
       "    <tr>\n",
       "      <th>206</th>\n",
       "      <td>117</td>\n",
       "      <td>0.103595</td>\n",
       "    </tr>\n",
       "    <tr>\n",
       "      <th>397</th>\n",
       "      <td>481</td>\n",
       "      <td>0.092957</td>\n",
       "    </tr>\n",
       "    <tr>\n",
       "      <th>25</th>\n",
       "      <td>30</td>\n",
       "      <td>0.085036</td>\n",
       "    </tr>\n",
       "    <tr>\n",
       "      <th>54</th>\n",
       "      <td>32</td>\n",
       "      <td>0.084182</td>\n",
       "    </tr>\n",
       "    <tr>\n",
       "      <th>99</th>\n",
       "      <td>150</td>\n",
       "      <td>0.083952</td>\n",
       "    </tr>\n",
       "    <tr>\n",
       "      <th>193</th>\n",
       "      <td>170</td>\n",
       "      <td>0.080242</td>\n",
       "    </tr>\n",
       "    <tr>\n",
       "      <th>28</th>\n",
       "      <td>22</td>\n",
       "      <td>0.072013</td>\n",
       "    </tr>\n",
       "  </tbody>\n",
       "</table>\n",
       "</div>"
      ],
      "text/plain": [
       "     Node  NodeBetweennessCentrality\n",
       "18     18                   0.147551\n",
       "21      8                   0.140649\n",
       "113    97                   0.128843\n",
       "206   117                   0.103595\n",
       "397   481                   0.092957\n",
       "25     30                   0.085036\n",
       "54     32                   0.084182\n",
       "99    150                   0.083952\n",
       "193   170                   0.080242\n",
       "28     22                   0.072013"
      ]
     },
     "execution_count": 20,
     "metadata": {},
     "output_type": "execute_result"
    }
   ],
   "source": [
    "# node betweenness\n",
    "node_betweenness = nx.betweenness_centrality(G)\n",
    "node_betweenness  = pd.DataFrame(node_betweenness.items(), columns=['Node', 'NodeBetweennessCentrality'])\n",
    "node_betweenness.sort_values(by=['NodeBetweennessCentrality'], ascending=False).head(10)"
   ]
  },
  {
   "cell_type": "code",
   "execution_count": 21,
   "metadata": {},
   "outputs": [
    {
     "data": {
      "text/html": [
       "<div>\n",
       "<style scoped>\n",
       "    .dataframe tbody tr th:only-of-type {\n",
       "        vertical-align: middle;\n",
       "    }\n",
       "\n",
       "    .dataframe tbody tr th {\n",
       "        vertical-align: top;\n",
       "    }\n",
       "\n",
       "    .dataframe thead th {\n",
       "        text-align: right;\n",
       "    }\n",
       "</style>\n",
       "<table border=\"1\" class=\"dataframe\">\n",
       "  <thead>\n",
       "    <tr style=\"text-align: right;\">\n",
       "      <th></th>\n",
       "      <th>Node</th>\n",
       "      <th>NodeClustering</th>\n",
       "    </tr>\n",
       "  </thead>\n",
       "  <tbody>\n",
       "    <tr>\n",
       "      <th>1759</th>\n",
       "      <td>1073</td>\n",
       "      <td>1.0</td>\n",
       "    </tr>\n",
       "    <tr>\n",
       "      <th>2453</th>\n",
       "      <td>2217</td>\n",
       "      <td>1.0</td>\n",
       "    </tr>\n",
       "    <tr>\n",
       "      <th>2178</th>\n",
       "      <td>1622</td>\n",
       "      <td>1.0</td>\n",
       "    </tr>\n",
       "    <tr>\n",
       "      <th>2560</th>\n",
       "      <td>2327</td>\n",
       "      <td>1.0</td>\n",
       "    </tr>\n",
       "    <tr>\n",
       "      <th>1822</th>\n",
       "      <td>1910</td>\n",
       "      <td>1.0</td>\n",
       "    </tr>\n",
       "    <tr>\n",
       "      <th>1205</th>\n",
       "      <td>1294</td>\n",
       "      <td>1.0</td>\n",
       "    </tr>\n",
       "    <tr>\n",
       "      <th>1208</th>\n",
       "      <td>1297</td>\n",
       "      <td>1.0</td>\n",
       "    </tr>\n",
       "    <tr>\n",
       "      <th>1816</th>\n",
       "      <td>1443</td>\n",
       "      <td>1.0</td>\n",
       "    </tr>\n",
       "    <tr>\n",
       "      <th>2016</th>\n",
       "      <td>2392</td>\n",
       "      <td>1.0</td>\n",
       "    </tr>\n",
       "    <tr>\n",
       "      <th>2099</th>\n",
       "      <td>2445</td>\n",
       "      <td>1.0</td>\n",
       "    </tr>\n",
       "  </tbody>\n",
       "</table>\n",
       "</div>"
      ],
      "text/plain": [
       "      Node  NodeClustering\n",
       "1759  1073             1.0\n",
       "2453  2217             1.0\n",
       "2178  1622             1.0\n",
       "2560  2327             1.0\n",
       "1822  1910             1.0\n",
       "1205  1294             1.0\n",
       "1208  1297             1.0\n",
       "1816  1443             1.0\n",
       "2016  2392             1.0\n",
       "2099  2445             1.0"
      ]
     },
     "execution_count": 21,
     "metadata": {},
     "output_type": "execute_result"
    }
   ],
   "source": [
    "node_clustering = nx.clustering(G)\n",
    "node_clustering  = pd.DataFrame(node_clustering.items(), columns=['Node', 'NodeClustering'])\n",
    "node_clustering.sort_values(by=['NodeClustering'], ascending=False).head(10)"
   ]
  },
  {
   "cell_type": "markdown",
   "metadata": {},
   "source": [
    "Sure, here are brief definitions for each:\n",
    "\n",
    "1. **Average Shortest Distance of Network:**\n",
    "   - The average shortest distance measures the average number of steps it takes to travel from one node to another in a network, providing an indication of network-wide connectivity.\n",
    "\n",
    "2. **Transitivity:**\n",
    "   - Transitivity quantifies the tendency of nodes in a network to form clusters or triangles. It is the ratio of the number of triangles to the number of potential triangles in the network.\n",
    "\n",
    "3. **Average Clustering Coefficient:**\n",
    "   - The average clustering coefficient measures the degree to which nodes in a network tend to cluster together. It is the average of the local clustering coefficients for all nodes.\n",
    "\n",
    "4. **Density:**\n",
    "   - Density in a network context represents the ratio of actual edges to possible edges. It provides an indication of how connected the nodes are in the network.\n",
    "\n",
    "4. **Degree Assortativity Coefficient:**\n",
    "   - A positive coefficient (closer to 1) indicates assortative mixing, where nodes tend to connect to others with similar degrees. High-degree nodes are more likely to be connected to other high-degree nodes, and low-degree nodes to other low-degree nodes.\n",
    "\n",
    "5. **Pagerank:**\n",
    "   - Pagerank is an algorithm that assigns a numerical weight to each element in a hyperlinked set of documents, representing its importance in the network. It is commonly used for ranking web pages in search engines.\n",
    "\n",
    "6. **Average Neighbor Degree:**\n",
    "   - Average Neighbor Degree measures the average degree of the neighbors of a node in a network, providing insights into the local structure around each node.\n",
    "\n",
    "7. **Closeness Centrality:**\n",
    "   - Closeness centrality quantifies how close a node is to all other nodes in the network. Nodes with high closeness centrality can be reached quickly from other nodes.\n",
    "\n",
    "8. **Edge Betweenness Centrality:**\n",
    "   - Edge Betweenness Centrality measures the number of shortest paths between pairs of nodes that pass through a particular edge. It helps identify critical edges for communication in the network.\n",
    "\n",
    "9. **Node Betweenness Centrality:**\n",
    "   - Node Betweenness Centrality measures the influence of a node in a network by quantifying the number of shortest paths that pass through it. Nodes with high betweenness centrality are crucial for maintaining efficient communication in the network. It is often employed in identifying critical nodes whose removal might disrupt communication or flow within a network.\n",
    "\n",
    "10. **Node-Level Clustering Coefficient:**\n",
    "      - Node-Level Clustering Coefficient measures the extent to which neighbors of a node are connected to each other. It quantifies the local clustering around a node, reflecting how well its neighbors are interconnected. High node-level clustering indicates that a node's neighbors are densely connected, suggesting a tightly-knit local community or module."
   ]
  },
  {
   "cell_type": "code",
   "execution_count": 22,
   "metadata": {},
   "outputs": [
    {
     "data": {
      "text/html": [
       "<div>\n",
       "<style scoped>\n",
       "    .dataframe tbody tr th:only-of-type {\n",
       "        vertical-align: middle;\n",
       "    }\n",
       "\n",
       "    .dataframe tbody tr th {\n",
       "        vertical-align: top;\n",
       "    }\n",
       "\n",
       "    .dataframe thead th {\n",
       "        text-align: right;\n",
       "    }\n",
       "</style>\n",
       "<table border=\"1\" class=\"dataframe\">\n",
       "  <thead>\n",
       "    <tr style=\"text-align: right;\">\n",
       "      <th></th>\n",
       "      <th>Node</th>\n",
       "      <th>NodeClustering</th>\n",
       "      <th>NodeBetweennessCentrality</th>\n",
       "      <th>ClosenessCentrality</th>\n",
       "      <th>AvgNeighborDegree</th>\n",
       "      <th>PageRank</th>\n",
       "    </tr>\n",
       "  </thead>\n",
       "  <tbody>\n",
       "    <tr>\n",
       "      <th>0</th>\n",
       "      <td>1</td>\n",
       "      <td>0.000000</td>\n",
       "      <td>0.000000</td>\n",
       "      <td>0.000000</td>\n",
       "      <td>4.75</td>\n",
       "      <td>0.000197</td>\n",
       "    </tr>\n",
       "    <tr>\n",
       "      <th>1</th>\n",
       "      <td>2</td>\n",
       "      <td>0.050000</td>\n",
       "      <td>0.000084</td>\n",
       "      <td>0.000378</td>\n",
       "      <td>5.00</td>\n",
       "      <td>0.000222</td>\n",
       "    </tr>\n",
       "    <tr>\n",
       "      <th>9</th>\n",
       "      <td>3</td>\n",
       "      <td>0.450000</td>\n",
       "      <td>0.000000</td>\n",
       "      <td>0.000000</td>\n",
       "      <td>5.00</td>\n",
       "      <td>0.000197</td>\n",
       "    </tr>\n",
       "    <tr>\n",
       "      <th>2</th>\n",
       "      <td>4</td>\n",
       "      <td>0.188830</td>\n",
       "      <td>0.005049</td>\n",
       "      <td>0.065922</td>\n",
       "      <td>5.00</td>\n",
       "      <td>0.000699</td>\n",
       "    </tr>\n",
       "    <tr>\n",
       "      <th>3</th>\n",
       "      <td>5</td>\n",
       "      <td>0.142157</td>\n",
       "      <td>0.004032</td>\n",
       "      <td>0.133688</td>\n",
       "      <td>4.00</td>\n",
       "      <td>0.000774</td>\n",
       "    </tr>\n",
       "    <tr>\n",
       "      <th>20</th>\n",
       "      <td>6</td>\n",
       "      <td>0.102649</td>\n",
       "      <td>0.008260</td>\n",
       "      <td>0.147774</td>\n",
       "      <td>4.00</td>\n",
       "      <td>0.000979</td>\n",
       "    </tr>\n",
       "    <tr>\n",
       "      <th>15</th>\n",
       "      <td>7</td>\n",
       "      <td>0.109562</td>\n",
       "      <td>0.018768</td>\n",
       "      <td>0.150353</td>\n",
       "      <td>4.00</td>\n",
       "      <td>0.001263</td>\n",
       "    </tr>\n",
       "    <tr>\n",
       "      <th>21</th>\n",
       "      <td>8</td>\n",
       "      <td>0.039888</td>\n",
       "      <td>0.140649</td>\n",
       "      <td>0.195165</td>\n",
       "      <td>5.00</td>\n",
       "      <td>0.003625</td>\n",
       "    </tr>\n",
       "    <tr>\n",
       "      <th>22</th>\n",
       "      <td>9</td>\n",
       "      <td>0.082418</td>\n",
       "      <td>0.000000</td>\n",
       "      <td>0.146580</td>\n",
       "      <td>0.00</td>\n",
       "      <td>0.001137</td>\n",
       "    </tr>\n",
       "    <tr>\n",
       "      <th>23</th>\n",
       "      <td>10</td>\n",
       "      <td>0.285714</td>\n",
       "      <td>0.003049</td>\n",
       "      <td>0.116834</td>\n",
       "      <td>4.00</td>\n",
       "      <td>0.000424</td>\n",
       "    </tr>\n",
       "  </tbody>\n",
       "</table>\n",
       "</div>"
      ],
      "text/plain": [
       "    Node  NodeClustering  NodeBetweennessCentrality  ClosenessCentrality  \\\n",
       "0      1        0.000000                   0.000000             0.000000   \n",
       "1      2        0.050000                   0.000084             0.000378   \n",
       "9      3        0.450000                   0.000000             0.000000   \n",
       "2      4        0.188830                   0.005049             0.065922   \n",
       "3      5        0.142157                   0.004032             0.133688   \n",
       "20     6        0.102649                   0.008260             0.147774   \n",
       "15     7        0.109562                   0.018768             0.150353   \n",
       "21     8        0.039888                   0.140649             0.195165   \n",
       "22     9        0.082418                   0.000000             0.146580   \n",
       "23    10        0.285714                   0.003049             0.116834   \n",
       "\n",
       "    AvgNeighborDegree  PageRank  \n",
       "0                4.75  0.000197  \n",
       "1                5.00  0.000222  \n",
       "9                5.00  0.000197  \n",
       "2                5.00  0.000699  \n",
       "3                4.00  0.000774  \n",
       "20               4.00  0.000979  \n",
       "15               4.00  0.001263  \n",
       "21               5.00  0.003625  \n",
       "22               0.00  0.001137  \n",
       "23               4.00  0.000424  "
      ]
     },
     "execution_count": 22,
     "metadata": {},
     "output_type": "execute_result"
    }
   ],
   "source": [
    "# combine the dataframes\n",
    "graph_df = node_clustering.join(node_betweenness.set_index('Node'), on='Node')\\\n",
    "    .join(closeness_centrality.set_index('Node'), on='Node')\\\n",
    "    .join(avg_neighbor_degree.set_index('Node'), on='Node')\\\n",
    "    .join(pagerank.set_index('Node'), on='Node')\n",
    "graph_df.sort_values(by=['Node'], ascending=True).head(10)"
   ]
  },
  {
   "cell_type": "markdown",
   "metadata": {},
   "source": [
    "# Part 3: Predicting Review-Rating using Features derived from network properties [50 points]"
   ]
  },
  {
   "cell_type": "code",
   "execution_count": 209,
   "metadata": {},
   "outputs": [
    {
     "data": {
      "text/html": [
       "<div>\n",
       "<style scoped>\n",
       "    .dataframe tbody tr th:only-of-type {\n",
       "        vertical-align: middle;\n",
       "    }\n",
       "\n",
       "    .dataframe tbody tr th {\n",
       "        vertical-align: top;\n",
       "    }\n",
       "\n",
       "    .dataframe thead th {\n",
       "        text-align: right;\n",
       "    }\n",
       "</style>\n",
       "<table border=\"1\" class=\"dataframe\">\n",
       "  <thead>\n",
       "    <tr style=\"text-align: right;\">\n",
       "      <th></th>\n",
       "      <th>id</th>\n",
       "      <th>title</th>\n",
       "      <th>group</th>\n",
       "      <th>review</th>\n",
       "    </tr>\n",
       "  </thead>\n",
       "  <tbody>\n",
       "    <tr>\n",
       "      <th>0</th>\n",
       "      <td>3</td>\n",
       "      <td>World War II Allied Fighter Planes Trading Cards</td>\n",
       "      <td>Book</td>\n",
       "      <td>5.0</td>\n",
       "    </tr>\n",
       "    <tr>\n",
       "      <th>1</th>\n",
       "      <td>5</td>\n",
       "      <td>Prayers That Avail Much for Business: Executive</td>\n",
       "      <td>Book</td>\n",
       "      <td>0.0</td>\n",
       "    </tr>\n",
       "    <tr>\n",
       "      <th>2</th>\n",
       "      <td>7</td>\n",
       "      <td>Batik</td>\n",
       "      <td>Music</td>\n",
       "      <td>4.5</td>\n",
       "    </tr>\n",
       "  </tbody>\n",
       "</table>\n",
       "</div>"
      ],
      "text/plain": [
       "   id                                              title   group  review\n",
       "0   3   World War II Allied Fighter Planes Trading Cards    Book     5.0\n",
       "1   5    Prayers That Avail Much for Business: Executive    Book     0.0\n",
       "2   7                                              Batik   Music     4.5"
      ]
     },
     "execution_count": 209,
     "metadata": {},
     "output_type": "execute_result"
    }
   ],
   "source": [
    "reviewTrain = pd.read_csv(\"reviewTrain.csv\")\n",
    "reviewTrain.head(3)"
   ]
  },
  {
   "cell_type": "code",
   "execution_count": 215,
   "metadata": {},
   "outputs": [],
   "source": [
    "def preprocess(input_df):\n",
    "    df = input_df.merge(graph_df, left_on='id', right_on='Node', how='left')\n",
    "    # drop columns\n",
    "    df_X = df.drop(['id', 'title', 'group', 'Node', 'review'], axis=1)\n",
    "    # convert the review column to string\n",
    "    df['review'] = df['review'].astype(str)\n",
    "    df_y = df['review'].astype(float)\n",
    "    # fill nan values\n",
    "    df_X = df_X.fillna(df_X.median())\n",
    "    df_y = df_y.fillna(df_y.median())\n",
    "    return df_X, df_y\n",
    "\n",
    "X, y= preprocess(reviewTrain)"
   ]
  },
  {
   "cell_type": "code",
   "execution_count": 216,
   "metadata": {},
   "outputs": [
    {
     "data": {
      "text/html": [
       "<div>\n",
       "<style scoped>\n",
       "    .dataframe tbody tr th:only-of-type {\n",
       "        vertical-align: middle;\n",
       "    }\n",
       "\n",
       "    .dataframe tbody tr th {\n",
       "        vertical-align: top;\n",
       "    }\n",
       "\n",
       "    .dataframe thead th {\n",
       "        text-align: right;\n",
       "    }\n",
       "</style>\n",
       "<table border=\"1\" class=\"dataframe\">\n",
       "  <thead>\n",
       "    <tr style=\"text-align: right;\">\n",
       "      <th></th>\n",
       "      <th>NodeClustering</th>\n",
       "      <th>NodeBetweennessCentrality</th>\n",
       "      <th>ClosenessCentrality</th>\n",
       "      <th>AvgNeighborDegree</th>\n",
       "      <th>PageRank</th>\n",
       "    </tr>\n",
       "  </thead>\n",
       "  <tbody>\n",
       "    <tr>\n",
       "      <th>0</th>\n",
       "      <td>0.450000</td>\n",
       "      <td>0.000000</td>\n",
       "      <td>0.000000</td>\n",
       "      <td>5.0</td>\n",
       "      <td>0.000197</td>\n",
       "    </tr>\n",
       "    <tr>\n",
       "      <th>1</th>\n",
       "      <td>0.142157</td>\n",
       "      <td>0.004032</td>\n",
       "      <td>0.133688</td>\n",
       "      <td>4.0</td>\n",
       "      <td>0.000774</td>\n",
       "    </tr>\n",
       "    <tr>\n",
       "      <th>2</th>\n",
       "      <td>0.109562</td>\n",
       "      <td>0.018768</td>\n",
       "      <td>0.150353</td>\n",
       "      <td>4.0</td>\n",
       "      <td>0.001263</td>\n",
       "    </tr>\n",
       "    <tr>\n",
       "      <th>3</th>\n",
       "      <td>0.285714</td>\n",
       "      <td>0.003049</td>\n",
       "      <td>0.116834</td>\n",
       "      <td>4.0</td>\n",
       "      <td>0.000424</td>\n",
       "    </tr>\n",
       "    <tr>\n",
       "      <th>4</th>\n",
       "      <td>0.120344</td>\n",
       "      <td>0.008756</td>\n",
       "      <td>0.008231</td>\n",
       "      <td>3.8</td>\n",
       "      <td>0.000906</td>\n",
       "    </tr>\n",
       "    <tr>\n",
       "      <th>...</th>\n",
       "      <td>...</td>\n",
       "      <td>...</td>\n",
       "      <td>...</td>\n",
       "      <td>...</td>\n",
       "      <td>...</td>\n",
       "    </tr>\n",
       "    <tr>\n",
       "      <th>1669</th>\n",
       "      <td>0.368421</td>\n",
       "      <td>0.000533</td>\n",
       "      <td>0.070014</td>\n",
       "      <td>4.8</td>\n",
       "      <td>0.000344</td>\n",
       "    </tr>\n",
       "    <tr>\n",
       "      <th>1670</th>\n",
       "      <td>0.368421</td>\n",
       "      <td>0.000533</td>\n",
       "      <td>0.070014</td>\n",
       "      <td>4.8</td>\n",
       "      <td>0.000344</td>\n",
       "    </tr>\n",
       "    <tr>\n",
       "      <th>1671</th>\n",
       "      <td>0.368421</td>\n",
       "      <td>0.000533</td>\n",
       "      <td>0.070014</td>\n",
       "      <td>4.8</td>\n",
       "      <td>0.000344</td>\n",
       "    </tr>\n",
       "    <tr>\n",
       "      <th>1672</th>\n",
       "      <td>0.368421</td>\n",
       "      <td>0.000533</td>\n",
       "      <td>0.070014</td>\n",
       "      <td>4.8</td>\n",
       "      <td>0.000344</td>\n",
       "    </tr>\n",
       "    <tr>\n",
       "      <th>1673</th>\n",
       "      <td>0.368421</td>\n",
       "      <td>0.000533</td>\n",
       "      <td>0.070014</td>\n",
       "      <td>4.8</td>\n",
       "      <td>0.000344</td>\n",
       "    </tr>\n",
       "  </tbody>\n",
       "</table>\n",
       "<p>1674 rows × 5 columns</p>\n",
       "</div>"
      ],
      "text/plain": [
       "      NodeClustering  NodeBetweennessCentrality  ClosenessCentrality  \\\n",
       "0           0.450000                   0.000000             0.000000   \n",
       "1           0.142157                   0.004032             0.133688   \n",
       "2           0.109562                   0.018768             0.150353   \n",
       "3           0.285714                   0.003049             0.116834   \n",
       "4           0.120344                   0.008756             0.008231   \n",
       "...              ...                        ...                  ...   \n",
       "1669        0.368421                   0.000533             0.070014   \n",
       "1670        0.368421                   0.000533             0.070014   \n",
       "1671        0.368421                   0.000533             0.070014   \n",
       "1672        0.368421                   0.000533             0.070014   \n",
       "1673        0.368421                   0.000533             0.070014   \n",
       "\n",
       "      AvgNeighborDegree  PageRank  \n",
       "0                   5.0  0.000197  \n",
       "1                   4.0  0.000774  \n",
       "2                   4.0  0.001263  \n",
       "3                   4.0  0.000424  \n",
       "4                   3.8  0.000906  \n",
       "...                 ...       ...  \n",
       "1669                4.8  0.000344  \n",
       "1670                4.8  0.000344  \n",
       "1671                4.8  0.000344  \n",
       "1672                4.8  0.000344  \n",
       "1673                4.8  0.000344  \n",
       "\n",
       "[1674 rows x 5 columns]"
      ]
     },
     "execution_count": 216,
     "metadata": {},
     "output_type": "execute_result"
    }
   ],
   "source": [
    "X"
   ]
  },
  {
   "cell_type": "code",
   "execution_count": 212,
   "metadata": {},
   "outputs": [
    {
     "data": {
      "text/html": [
       "<div>\n",
       "<style scoped>\n",
       "    .dataframe tbody tr th:only-of-type {\n",
       "        vertical-align: middle;\n",
       "    }\n",
       "\n",
       "    .dataframe tbody tr th {\n",
       "        vertical-align: top;\n",
       "    }\n",
       "\n",
       "    .dataframe thead th {\n",
       "        text-align: right;\n",
       "    }\n",
       "</style>\n",
       "<table border=\"1\" class=\"dataframe\">\n",
       "  <thead>\n",
       "    <tr style=\"text-align: right;\">\n",
       "      <th></th>\n",
       "      <th>MI</th>\n",
       "      <th>Feature</th>\n",
       "    </tr>\n",
       "  </thead>\n",
       "  <tbody>\n",
       "    <tr>\n",
       "      <th>3</th>\n",
       "      <td>0.008028</td>\n",
       "      <td>AvgNeighborDegree</td>\n",
       "    </tr>\n",
       "    <tr>\n",
       "      <th>1</th>\n",
       "      <td>0.006700</td>\n",
       "      <td>NodeBetweennessCentrality</td>\n",
       "    </tr>\n",
       "    <tr>\n",
       "      <th>2</th>\n",
       "      <td>0.004379</td>\n",
       "      <td>ClosenessCentrality</td>\n",
       "    </tr>\n",
       "    <tr>\n",
       "      <th>0</th>\n",
       "      <td>0.000000</td>\n",
       "      <td>NodeClustering</td>\n",
       "    </tr>\n",
       "    <tr>\n",
       "      <th>4</th>\n",
       "      <td>0.000000</td>\n",
       "      <td>PageRank</td>\n",
       "    </tr>\n",
       "  </tbody>\n",
       "</table>\n",
       "</div>"
      ],
      "text/plain": [
       "         MI                    Feature\n",
       "3  0.008028          AvgNeighborDegree\n",
       "1  0.006700  NodeBetweennessCentrality\n",
       "2  0.004379        ClosenessCentrality\n",
       "0  0.000000             NodeClustering\n",
       "4  0.000000                   PageRank"
      ]
     },
     "execution_count": 212,
     "metadata": {},
     "output_type": "execute_result"
    }
   ],
   "source": [
    "# perform mutual information feature selection\n",
    "from sklearn.feature_selection import mutual_info_regression\n",
    "\n",
    "# mutual information\n",
    "mi = mutual_info_regression(X, y)\n",
    "mi = pd.DataFrame(mi, columns=['MI'])\n",
    "mi['Feature'] = X.columns\n",
    "mi = mi.sort_values(by=['MI'], ascending=False)\n",
    "mi.head(10)"
   ]
  },
  {
   "cell_type": "markdown",
   "metadata": {},
   "source": [
    "Since the `NodeClustering` and `PageRank` do not convey any information about the `y` variable of `reviews`, I will drop them."
   ]
  },
  {
   "cell_type": "code",
   "execution_count": 217,
   "metadata": {},
   "outputs": [],
   "source": [
    "X = X.drop(['NodeClustering', 'PageRank'], axis=1)"
   ]
  },
  {
   "cell_type": "code",
   "execution_count": 218,
   "metadata": {},
   "outputs": [
    {
     "data": {
      "text/plain": [
       "0       5.0\n",
       "1       0.0\n",
       "2       4.5\n",
       "3       4.0\n",
       "4       5.0\n",
       "       ... \n",
       "1669    0.0\n",
       "1670    4.5\n",
       "1671    5.0\n",
       "1672    4.5\n",
       "1673    3.5\n",
       "Name: review, Length: 1674, dtype: float64"
      ]
     },
     "execution_count": 218,
     "metadata": {},
     "output_type": "execute_result"
    }
   ],
   "source": [
    "y"
   ]
  },
  {
   "cell_type": "markdown",
   "metadata": {},
   "source": [
    "I will scale the feature dataset with `StandardScalar` and apply various machine Learning models over it."
   ]
  },
  {
   "cell_type": "code",
   "execution_count": 219,
   "metadata": {},
   "outputs": [],
   "source": [
    "from sklearn.metrics import mean_absolute_error\n",
    "from sklearn.ensemble import RandomForestClassifier\n",
    "\n",
    "X_train, X_test, y_train, y_test = train_test_split(X, y, test_size=0.2, random_state=42)\n",
    "\n",
    "scaler = StandardScaler()\n",
    "X_train_scaled = scaler.fit_transform(X_train)\n",
    "X_test_scaled = scaler.transform(X_test)\n",
    "\n",
    "def get_MAE_score(model, X_train_scaled, X_test_scaled, y_train, y_test):\n",
    "    model.fit(X_train_scaled, y_train)\n",
    "    print(\"Training score: \", mean_absolute_error(y_train, model.predict(X_train_scaled)))\n",
    "    y_pred = model.predict(X_test_scaled)\n",
    "    return mean_absolute_error(y_test, y_pred)"
   ]
  },
  {
   "cell_type": "markdown",
   "metadata": {},
   "source": [
    "First I will train the basic Linear Regression model."
   ]
  },
  {
   "cell_type": "code",
   "execution_count": 220,
   "metadata": {},
   "outputs": [
    {
     "name": "stdout",
     "output_type": "stream",
     "text": [
      "Training score:  1.7370778168322287\n",
      "Test MAE Score:  1.68235069170558\n"
     ]
    }
   ],
   "source": [
    "lr = LinearRegression()\n",
    "print(\"Test MAE Score: \", get_MAE_score(lr, X_train_scaled, X_test_scaled, y_train, y_test))"
   ]
  },
  {
   "cell_type": "code",
   "execution_count": 221,
   "metadata": {},
   "outputs": [
    {
     "name": "stdout",
     "output_type": "stream",
     "text": [
      "Training score:  1.7336777700711095\n",
      "Test MAE Score:  1.6794445834155296\n"
     ]
    }
   ],
   "source": [
    "poly = PolynomialFeatures(degree=2)\n",
    "X_train_poly = poly.fit_transform(X_train_scaled)\n",
    "X_test_poly = poly.transform(X_test_scaled)\n",
    "\n",
    "lr = LinearRegression()\n",
    "print(\"Test MAE Score: \", get_MAE_score(lr, X_train_poly, X_test_poly, y_train, y_test))"
   ]
  },
  {
   "cell_type": "markdown",
   "metadata": {},
   "source": [
    "The polynomial model of degree 2 is computationally expensive and at the same time does not give a better imporvement of MAE score"
   ]
  },
  {
   "cell_type": "code",
   "execution_count": 222,
   "metadata": {},
   "outputs": [
    {
     "name": "stdout",
     "output_type": "stream",
     "text": [
      "Training score:  1.4735802473064286\n",
      "Test MAE Score:  1.4031339356456516\n"
     ]
    }
   ],
   "source": [
    "model = SVR(kernel='rbf', C=1e3, gamma=0.1)\n",
    "print(\"Test MAE Score: \", get_MAE_score(model, X_train_scaled, X_test_scaled, y_train, y_test))"
   ]
  },
  {
   "cell_type": "markdown",
   "metadata": {},
   "source": [
    "SVR model gave the best MAE scores among these models"
   ]
  },
  {
   "cell_type": "code",
   "execution_count": 223,
   "metadata": {},
   "outputs": [],
   "source": [
    "# predictions on test data\n",
    "reviewTest = pd.read_csv(\"reviewTest.csv\")"
   ]
  },
  {
   "cell_type": "code",
   "execution_count": 224,
   "metadata": {},
   "outputs": [
    {
     "data": {
      "text/html": [
       "<div>\n",
       "<style scoped>\n",
       "    .dataframe tbody tr th:only-of-type {\n",
       "        vertical-align: middle;\n",
       "    }\n",
       "\n",
       "    .dataframe tbody tr th {\n",
       "        vertical-align: top;\n",
       "    }\n",
       "\n",
       "    .dataframe thead th {\n",
       "        text-align: right;\n",
       "    }\n",
       "</style>\n",
       "<table border=\"1\" class=\"dataframe\">\n",
       "  <thead>\n",
       "    <tr style=\"text-align: right;\">\n",
       "      <th></th>\n",
       "      <th>id</th>\n",
       "      <th>title</th>\n",
       "      <th>group</th>\n",
       "      <th>review</th>\n",
       "    </tr>\n",
       "  </thead>\n",
       "  <tbody>\n",
       "    <tr>\n",
       "      <th>995</th>\n",
       "      <td>1097</td>\n",
       "      <td>Ahma</td>\n",
       "      <td>Music</td>\n",
       "      <td>NaN</td>\n",
       "    </tr>\n",
       "    <tr>\n",
       "      <th>996</th>\n",
       "      <td>1393</td>\n",
       "      <td>Loney Planet Chicago City Map (City Maps Series)</td>\n",
       "      <td>Book</td>\n",
       "      <td>NaN</td>\n",
       "    </tr>\n",
       "    <tr>\n",
       "      <th>997</th>\n",
       "      <td>643</td>\n",
       "      <td>Swell Style : A Girl's Guide to Turning Heads...</td>\n",
       "      <td>Book</td>\n",
       "      <td>NaN</td>\n",
       "    </tr>\n",
       "    <tr>\n",
       "      <th>998</th>\n",
       "      <td>976</td>\n",
       "      <td>Dark Continent : Europe's Twentieth Century</td>\n",
       "      <td>Book</td>\n",
       "      <td>NaN</td>\n",
       "    </tr>\n",
       "    <tr>\n",
       "      <th>999</th>\n",
       "      <td>961</td>\n",
       "      <td>Choice and Consequence</td>\n",
       "      <td>Book</td>\n",
       "      <td>NaN</td>\n",
       "    </tr>\n",
       "  </tbody>\n",
       "</table>\n",
       "</div>"
      ],
      "text/plain": [
       "       id                                              title   group  review\n",
       "995  1097                                               Ahma   Music     NaN\n",
       "996  1393   Loney Planet Chicago City Map (City Maps Series)    Book     NaN\n",
       "997   643   Swell Style : A Girl's Guide to Turning Heads...    Book     NaN\n",
       "998   976        Dark Continent : Europe's Twentieth Century    Book     NaN\n",
       "999   961                             Choice and Consequence    Book     NaN"
      ]
     },
     "execution_count": 224,
     "metadata": {},
     "output_type": "execute_result"
    }
   ],
   "source": [
    "reviewTest.tail()"
   ]
  },
  {
   "cell_type": "code",
   "execution_count": 225,
   "metadata": {},
   "outputs": [],
   "source": [
    "reviewTest.fillna(0, inplace=True)\n",
    "test_X, test_y = preprocess(reviewTest)"
   ]
  },
  {
   "cell_type": "code",
   "execution_count": 226,
   "metadata": {},
   "outputs": [
    {
     "data": {
      "text/html": [
       "<div>\n",
       "<style scoped>\n",
       "    .dataframe tbody tr th:only-of-type {\n",
       "        vertical-align: middle;\n",
       "    }\n",
       "\n",
       "    .dataframe tbody tr th {\n",
       "        vertical-align: top;\n",
       "    }\n",
       "\n",
       "    .dataframe thead th {\n",
       "        text-align: right;\n",
       "    }\n",
       "</style>\n",
       "<table border=\"1\" class=\"dataframe\">\n",
       "  <thead>\n",
       "    <tr style=\"text-align: right;\">\n",
       "      <th></th>\n",
       "      <th>NodeClustering</th>\n",
       "      <th>NodeBetweennessCentrality</th>\n",
       "      <th>ClosenessCentrality</th>\n",
       "      <th>AvgNeighborDegree</th>\n",
       "      <th>PageRank</th>\n",
       "    </tr>\n",
       "  </thead>\n",
       "  <tbody>\n",
       "    <tr>\n",
       "      <th>0</th>\n",
       "      <td>0.250000</td>\n",
       "      <td>3.048563e-02</td>\n",
       "      <td>0.116428</td>\n",
       "      <td>5.0</td>\n",
       "      <td>0.000347</td>\n",
       "    </tr>\n",
       "    <tr>\n",
       "      <th>1</th>\n",
       "      <td>0.288462</td>\n",
       "      <td>9.535202e-03</td>\n",
       "      <td>0.080232</td>\n",
       "      <td>4.8</td>\n",
       "      <td>0.000300</td>\n",
       "    </tr>\n",
       "    <tr>\n",
       "      <th>2</th>\n",
       "      <td>0.750000</td>\n",
       "      <td>3.095826e-07</td>\n",
       "      <td>0.063412</td>\n",
       "      <td>5.0</td>\n",
       "      <td>0.000338</td>\n",
       "    </tr>\n",
       "    <tr>\n",
       "      <th>3</th>\n",
       "      <td>0.750000</td>\n",
       "      <td>1.031101e-04</td>\n",
       "      <td>0.072458</td>\n",
       "      <td>4.0</td>\n",
       "      <td>0.000268</td>\n",
       "    </tr>\n",
       "    <tr>\n",
       "      <th>4</th>\n",
       "      <td>0.562500</td>\n",
       "      <td>7.927132e-04</td>\n",
       "      <td>0.093620</td>\n",
       "      <td>5.0</td>\n",
       "      <td>0.000358</td>\n",
       "    </tr>\n",
       "    <tr>\n",
       "      <th>...</th>\n",
       "      <td>...</td>\n",
       "      <td>...</td>\n",
       "      <td>...</td>\n",
       "      <td>...</td>\n",
       "      <td>...</td>\n",
       "    </tr>\n",
       "    <tr>\n",
       "      <th>995</th>\n",
       "      <td>0.414634</td>\n",
       "      <td>1.646917e-03</td>\n",
       "      <td>0.064222</td>\n",
       "      <td>5.0</td>\n",
       "      <td>0.000454</td>\n",
       "    </tr>\n",
       "    <tr>\n",
       "      <th>996</th>\n",
       "      <td>0.315789</td>\n",
       "      <td>6.684665e-06</td>\n",
       "      <td>0.078876</td>\n",
       "      <td>4.5</td>\n",
       "      <td>0.000327</td>\n",
       "    </tr>\n",
       "    <tr>\n",
       "      <th>997</th>\n",
       "      <td>0.550000</td>\n",
       "      <td>1.315945e-03</td>\n",
       "      <td>0.093544</td>\n",
       "      <td>5.0</td>\n",
       "      <td>0.000398</td>\n",
       "    </tr>\n",
       "    <tr>\n",
       "      <th>998</th>\n",
       "      <td>0.101604</td>\n",
       "      <td>9.521942e-03</td>\n",
       "      <td>0.085334</td>\n",
       "      <td>4.8</td>\n",
       "      <td>0.001183</td>\n",
       "    </tr>\n",
       "    <tr>\n",
       "      <th>999</th>\n",
       "      <td>0.328125</td>\n",
       "      <td>1.983496e-03</td>\n",
       "      <td>0.087325</td>\n",
       "      <td>4.6</td>\n",
       "      <td>0.000494</td>\n",
       "    </tr>\n",
       "  </tbody>\n",
       "</table>\n",
       "<p>1000 rows × 5 columns</p>\n",
       "</div>"
      ],
      "text/plain": [
       "     NodeClustering  NodeBetweennessCentrality  ClosenessCentrality  \\\n",
       "0          0.250000               3.048563e-02             0.116428   \n",
       "1          0.288462               9.535202e-03             0.080232   \n",
       "2          0.750000               3.095826e-07             0.063412   \n",
       "3          0.750000               1.031101e-04             0.072458   \n",
       "4          0.562500               7.927132e-04             0.093620   \n",
       "..              ...                        ...                  ...   \n",
       "995        0.414634               1.646917e-03             0.064222   \n",
       "996        0.315789               6.684665e-06             0.078876   \n",
       "997        0.550000               1.315945e-03             0.093544   \n",
       "998        0.101604               9.521942e-03             0.085334   \n",
       "999        0.328125               1.983496e-03             0.087325   \n",
       "\n",
       "     AvgNeighborDegree  PageRank  \n",
       "0                  5.0  0.000347  \n",
       "1                  4.8  0.000300  \n",
       "2                  5.0  0.000338  \n",
       "3                  4.0  0.000268  \n",
       "4                  5.0  0.000358  \n",
       "..                 ...       ...  \n",
       "995                5.0  0.000454  \n",
       "996                4.5  0.000327  \n",
       "997                5.0  0.000398  \n",
       "998                4.8  0.001183  \n",
       "999                4.6  0.000494  \n",
       "\n",
       "[1000 rows x 5 columns]"
      ]
     },
     "execution_count": 226,
     "metadata": {},
     "output_type": "execute_result"
    }
   ],
   "source": [
    "test_X"
   ]
  },
  {
   "cell_type": "code",
   "execution_count": 227,
   "metadata": {},
   "outputs": [],
   "source": [
    "test_X = test_X.drop(['NodeClustering', 'PageRank'], axis=1)\n",
    "test_X_scaled = scaler.transform(test_X)\n",
    "test_y_pred = model.predict(test_X_scaled)"
   ]
  },
  {
   "cell_type": "code",
   "execution_count": 228,
   "metadata": {},
   "outputs": [
    {
     "data": {
      "text/plain": [
       "1000"
      ]
     },
     "execution_count": 228,
     "metadata": {},
     "output_type": "execute_result"
    }
   ],
   "source": [
    "len(test_y_pred)"
   ]
  },
  {
   "cell_type": "code",
   "execution_count": 229,
   "metadata": {},
   "outputs": [
    {
     "data": {
      "text/html": [
       "<div>\n",
       "<style scoped>\n",
       "    .dataframe tbody tr th:only-of-type {\n",
       "        vertical-align: middle;\n",
       "    }\n",
       "\n",
       "    .dataframe tbody tr th {\n",
       "        vertical-align: top;\n",
       "    }\n",
       "\n",
       "    .dataframe thead th {\n",
       "        text-align: right;\n",
       "    }\n",
       "</style>\n",
       "<table border=\"1\" class=\"dataframe\">\n",
       "  <thead>\n",
       "    <tr style=\"text-align: right;\">\n",
       "      <th></th>\n",
       "      <th>id</th>\n",
       "      <th>title</th>\n",
       "      <th>group</th>\n",
       "      <th>review</th>\n",
       "    </tr>\n",
       "  </thead>\n",
       "  <tbody>\n",
       "    <tr>\n",
       "      <th>0</th>\n",
       "      <td>90</td>\n",
       "      <td>The Eagle Has Landed</td>\n",
       "      <td>Book</td>\n",
       "      <td>4.708739</td>\n",
       "    </tr>\n",
       "    <tr>\n",
       "      <th>1</th>\n",
       "      <td>1372</td>\n",
       "      <td>Che in Africa: Che Guevara's Congo Diary</td>\n",
       "      <td>Book</td>\n",
       "      <td>4.557368</td>\n",
       "    </tr>\n",
       "    <tr>\n",
       "      <th>2</th>\n",
       "      <td>1382</td>\n",
       "      <td>The Darwin Awards II : Unnatural Selection</td>\n",
       "      <td>Book</td>\n",
       "      <td>4.190920</td>\n",
       "    </tr>\n",
       "    <tr>\n",
       "      <th>3</th>\n",
       "      <td>253</td>\n",
       "      <td>Celtic Glory</td>\n",
       "      <td>Music</td>\n",
       "      <td>3.948070</td>\n",
       "    </tr>\n",
       "    <tr>\n",
       "      <th>4</th>\n",
       "      <td>671</td>\n",
       "      <td>Sublte Aromatherapy</td>\n",
       "      <td>Book</td>\n",
       "      <td>3.967436</td>\n",
       "    </tr>\n",
       "  </tbody>\n",
       "</table>\n",
       "</div>"
      ],
      "text/plain": [
       "     id                                        title   group    review\n",
       "0    90                         The Eagle Has Landed    Book  4.708739\n",
       "1  1372     Che in Africa: Che Guevara's Congo Diary    Book  4.557368\n",
       "2  1382   The Darwin Awards II : Unnatural Selection    Book  4.190920\n",
       "3   253                                 Celtic Glory   Music  3.948070\n",
       "4   671                          Sublte Aromatherapy    Book  3.967436"
      ]
     },
     "execution_count": 229,
     "metadata": {},
     "output_type": "execute_result"
    }
   ],
   "source": [
    "reviewTest.review = test_y_pred\n",
    "reviewTest.head()"
   ]
  },
  {
   "cell_type": "code",
   "execution_count": 230,
   "metadata": {},
   "outputs": [],
   "source": [
    "reviewTest.to_csv(\"reviewTest_outcome.csv\", index=False)"
   ]
  },
  {
   "cell_type": "markdown",
   "metadata": {},
   "source": [
    "Obtained `review` predictions for `reviewTest.csv`"
   ]
  }
 ],
 "metadata": {
  "kernelspec": {
   "display_name": ".venv",
   "language": "python",
   "name": "python3"
  },
  "language_info": {
   "codemirror_mode": {
    "name": "ipython",
    "version": 3
   },
   "file_extension": ".py",
   "mimetype": "text/x-python",
   "name": "python",
   "nbconvert_exporter": "python",
   "pygments_lexer": "ipython3",
   "version": "3.11.6"
  }
 },
 "nbformat": 4,
 "nbformat_minor": 2
}
