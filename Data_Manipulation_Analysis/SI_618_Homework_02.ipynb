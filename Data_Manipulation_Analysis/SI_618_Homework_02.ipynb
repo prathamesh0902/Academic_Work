{
 "cells": [
  {
   "cell_type": "markdown",
   "metadata": {
    "tags": []
   },
   "source": [
    "# SI 618 - Homework #2: More Data Manipulation"
   ]
  },
  {
   "cell_type": "markdown",
   "metadata": {},
   "source": [
    "### The total score for this assignment will be 100 points, consisting of:\n",
    "- 10 pt: Overall quality of spelling, grammar, punctuation, etc. of written sentences. ([Guide](https://drive.google.com/file/d/1L0P7xJwjUGBvyb49mL3dw1Bt7hzRTiTl/view ))\n",
    "- 10 pt: Codes are written in [PEP 8](https://www.python.org/dev/peps/pep-0008/) style.\n",
    "- 80 pt: Homework questions. \n",
    "\n",
    "Version 2023.09.13.1.CT"
   ]
  },
  {
   "cell_type": "markdown",
   "metadata": {},
   "source": [
    "# Background\n",
    "You're a Data Science Consultant for an eCommerce retail company, they've asked you to analyze their sales database. Unfortunately, they did nothing to prepare or clean their data, only exporting their 3 database tables as JSON files. It's up to you to clean their data, analyze it and answer questions to help drive business value!\n",
    "\n",
    "### The below files have been provided via the URLs shown:\n",
    "- invoices.json https://github.com/umsi-data-science/data/raw/main/invoices.json\n",
    "- items.json https://github.com/umsi-data-science/data/raw/main/items.json\n",
    "- purchases.json https://github.com/umsi-data-science/data/raw/main/purchases.json\n",
    "\n",
    "### They provided this data dictionary:\n",
    "\n",
    "**InvoiceNo:** Invoice number. Nominal, a 6-digit integral number uniquely assigned to each transaction.  \n",
    "**StockCode:** Product (item) code. Nominal, a 5-digit integral number uniquely assigned to each distinct product.  \n",
    "**Description:** Product (item) name. Nominal.   \n",
    "**Quantity:** The quantities of each product (item) per transaction. Numeric.  \n",
    "**InvoiceDate:** Invoice Date and time. Numeric, the day and time when each transaction was generated.  \n",
    "**UnitPrice:** Unit price. Numeric, Product price per unit in sterling.  \n",
    "**CustomerID:** Customer number. Nominal, a 5-digit integral number uniquely assigned to each customer.  \n",
    "**Country:** Country name. Nominal, the name of the country where each customer resides.  \n",
    "\n",
    "### A few notes from the company:\n",
    "* If the InvoiceNo starts with the letter 'c', it indicates a cancellation. When conducting this analysis we only want to analyze invoices that were shipped. (ie. not canceled)\n",
    "* The datasets should be able to be merged, each row in the invoice table corresponds to multiple rows in the purchases table.\n",
    "* To find out the description or unit cost of an item in the purchase table, the StockCode should be used to match up the product in the items table. \n",
    "* They mentioned that they've been having a difficult time lately joining the items and purchases table, maybe there's something wrong with the columns?"
   ]
  },
  {
   "cell_type": "markdown",
   "metadata": {},
   "source": [
    "# Answer the questions below.\n",
    "- write your Python code that can answer the following questions \n",
    "- explain **ALL** your answers in plain English. \n",
    "- you can use as many code and markdown cells as you need for each question (i.e. don't limit yourself to just one of each if you feel you need more)."
   ]
  },
  {
   "cell_type": "code",
   "execution_count": 3,
   "metadata": {},
   "outputs": [],
   "source": [
    "MY_UNIQNAME = 'prathuj'  # replace this with your uniqname"
   ]
  },
  {
   "cell_type": "code",
   "execution_count": 4,
   "metadata": {},
   "outputs": [],
   "source": [
    "# importing libraries\n",
    "import pandas as pd\n",
    "import numpy as np\n",
    "import json\n",
    "import requests\n",
    "import matplotlib.pyplot as plt"
   ]
  },
  {
   "cell_type": "markdown",
   "metadata": {},
   "source": [
    "### <span style=\"color:magenta\"> Q1. [5 points] Describe the dataset. </span>\n",
    "1. Load the data. \n",
    "1. How many total invoices have been placed?\n",
    "1. How many unique customers are there?\n",
    "1. What is the total number of unique items?\n",
    "1. Are there any columns with null values?\n",
    "1. Thinking ahead, how do you think you would join the different tables? Please share 2-3 sentences about your approach."
   ]
  },
  {
   "cell_type": "markdown",
   "metadata": {},
   "source": [
    "**Ans 1.1**"
   ]
  },
  {
   "cell_type": "code",
   "execution_count": 5,
   "metadata": {},
   "outputs": [],
   "source": [
    "# put your code here\n",
    "# read json file using pandas\n",
    "invoice_df = pd.read_json(\n",
    "    'https://github.com/umsi-data-science/data/raw/main/invoices.json')\n",
    "items_df = pd.read_json(\n",
    "    'https://github.com/umsi-data-science/data/raw/main/items.json')\n",
    "purchase_df = pd.read_json(\n",
    "    'https://github.com/umsi-data-science/data/raw/main/purchases.json')\n"
   ]
  },
  {
   "cell_type": "code",
   "execution_count": 6,
   "metadata": {},
   "outputs": [
    {
     "data": {
      "text/html": [
       "<div>\n",
       "<style scoped>\n",
       "    .dataframe tbody tr th:only-of-type {\n",
       "        vertical-align: middle;\n",
       "    }\n",
       "\n",
       "    .dataframe tbody tr th {\n",
       "        vertical-align: top;\n",
       "    }\n",
       "\n",
       "    .dataframe thead th {\n",
       "        text-align: right;\n",
       "    }\n",
       "</style>\n",
       "<table border=\"1\" class=\"dataframe\">\n",
       "  <thead>\n",
       "    <tr style=\"text-align: right;\">\n",
       "      <th></th>\n",
       "      <th>InvoiceNo</th>\n",
       "      <th>InvoiceDate</th>\n",
       "      <th>CustomerID</th>\n",
       "      <th>Country</th>\n",
       "    </tr>\n",
       "  </thead>\n",
       "  <tbody>\n",
       "    <tr>\n",
       "      <th>25938</th>\n",
       "      <td>581583</td>\n",
       "      <td>12/9/11 12:23</td>\n",
       "      <td>13777.0</td>\n",
       "      <td>United Kingdom</td>\n",
       "    </tr>\n",
       "    <tr>\n",
       "      <th>25939</th>\n",
       "      <td>581584</td>\n",
       "      <td>12/9/11 12:25</td>\n",
       "      <td>13777.0</td>\n",
       "      <td>United Kingdom</td>\n",
       "    </tr>\n",
       "    <tr>\n",
       "      <th>25940</th>\n",
       "      <td>581585</td>\n",
       "      <td>12/9/11 12:31</td>\n",
       "      <td>15804.0</td>\n",
       "      <td>United Kingdom</td>\n",
       "    </tr>\n",
       "    <tr>\n",
       "      <th>25941</th>\n",
       "      <td>581586</td>\n",
       "      <td>12/9/11 12:49</td>\n",
       "      <td>13113.0</td>\n",
       "      <td>United Kingdom</td>\n",
       "    </tr>\n",
       "    <tr>\n",
       "      <th>25942</th>\n",
       "      <td>581587</td>\n",
       "      <td>12/9/11 12:50</td>\n",
       "      <td>12680.0</td>\n",
       "      <td>France</td>\n",
       "    </tr>\n",
       "  </tbody>\n",
       "</table>\n",
       "</div>"
      ],
      "text/plain": [
       "      InvoiceNo    InvoiceDate  CustomerID         Country\n",
       "25938    581583  12/9/11 12:23     13777.0  United Kingdom\n",
       "25939    581584  12/9/11 12:25     13777.0  United Kingdom\n",
       "25940    581585  12/9/11 12:31     15804.0  United Kingdom\n",
       "25941    581586  12/9/11 12:49     13113.0  United Kingdom\n",
       "25942    581587  12/9/11 12:50     12680.0          France"
      ]
     },
     "execution_count": 6,
     "metadata": {},
     "output_type": "execute_result"
    }
   ],
   "source": [
    "invoice_df.tail()"
   ]
  },
  {
   "cell_type": "code",
   "execution_count": 7,
   "metadata": {},
   "outputs": [
    {
     "data": {
      "text/plain": [
       "(25943, 4)"
      ]
     },
     "execution_count": 7,
     "metadata": {},
     "output_type": "execute_result"
    }
   ],
   "source": [
    "invoice_df.shape"
   ]
  },
  {
   "cell_type": "code",
   "execution_count": 8,
   "metadata": {},
   "outputs": [
    {
     "data": {
      "text/html": [
       "<div>\n",
       "<style scoped>\n",
       "    .dataframe tbody tr th:only-of-type {\n",
       "        vertical-align: middle;\n",
       "    }\n",
       "\n",
       "    .dataframe tbody tr th {\n",
       "        vertical-align: top;\n",
       "    }\n",
       "\n",
       "    .dataframe thead th {\n",
       "        text-align: right;\n",
       "    }\n",
       "</style>\n",
       "<table border=\"1\" class=\"dataframe\">\n",
       "  <thead>\n",
       "    <tr style=\"text-align: right;\">\n",
       "      <th></th>\n",
       "      <th>StockCode</th>\n",
       "      <th>Description</th>\n",
       "      <th>UnitPrice</th>\n",
       "    </tr>\n",
       "  </thead>\n",
       "  <tbody>\n",
       "    <tr>\n",
       "      <th>4065</th>\n",
       "      <td>85179a</td>\n",
       "      <td>GREEN BITTY LIGHT CHAIN</td>\n",
       "      <td>2.46</td>\n",
       "    </tr>\n",
       "    <tr>\n",
       "      <th>4066</th>\n",
       "      <td>23617</td>\n",
       "      <td>SET 10 CARDS SWIRLY XMAS TREE 17104</td>\n",
       "      <td>2.91</td>\n",
       "    </tr>\n",
       "    <tr>\n",
       "      <th>4067</th>\n",
       "      <td>90214U</td>\n",
       "      <td>LETTER \"U\" BLING KEY RING</td>\n",
       "      <td>0.29</td>\n",
       "    </tr>\n",
       "    <tr>\n",
       "      <th>4068</th>\n",
       "      <td>47591b</td>\n",
       "      <td>SCOTTIES CHILDRENS APRON</td>\n",
       "      <td>4.13</td>\n",
       "    </tr>\n",
       "    <tr>\n",
       "      <th>4069</th>\n",
       "      <td>23843</td>\n",
       "      <td>PAPER CRAFT , LITTLE BIRDIE</td>\n",
       "      <td>2.08</td>\n",
       "    </tr>\n",
       "  </tbody>\n",
       "</table>\n",
       "</div>"
      ],
      "text/plain": [
       "     StockCode                          Description  UnitPrice\n",
       "4065    85179a              GREEN BITTY LIGHT CHAIN       2.46\n",
       "4066     23617  SET 10 CARDS SWIRLY XMAS TREE 17104       2.91\n",
       "4067    90214U            LETTER \"U\" BLING KEY RING       0.29\n",
       "4068    47591b             SCOTTIES CHILDRENS APRON       4.13\n",
       "4069     23843          PAPER CRAFT , LITTLE BIRDIE       2.08"
      ]
     },
     "execution_count": 8,
     "metadata": {},
     "output_type": "execute_result"
    }
   ],
   "source": [
    "items_df.tail()"
   ]
  },
  {
   "cell_type": "code",
   "execution_count": 9,
   "metadata": {},
   "outputs": [
    {
     "data": {
      "text/html": [
       "<div>\n",
       "<style scoped>\n",
       "    .dataframe tbody tr th:only-of-type {\n",
       "        vertical-align: middle;\n",
       "    }\n",
       "\n",
       "    .dataframe tbody tr th {\n",
       "        vertical-align: top;\n",
       "    }\n",
       "\n",
       "    .dataframe thead th {\n",
       "        text-align: right;\n",
       "    }\n",
       "</style>\n",
       "<table border=\"1\" class=\"dataframe\">\n",
       "  <thead>\n",
       "    <tr style=\"text-align: right;\">\n",
       "      <th></th>\n",
       "      <th>InvoiceNo</th>\n",
       "      <th>StockCodeSC</th>\n",
       "      <th>Quantity</th>\n",
       "    </tr>\n",
       "  </thead>\n",
       "  <tbody>\n",
       "    <tr>\n",
       "      <th>541904</th>\n",
       "      <td>581587</td>\n",
       "      <td>SC22613</td>\n",
       "      <td>12</td>\n",
       "    </tr>\n",
       "    <tr>\n",
       "      <th>541905</th>\n",
       "      <td>581587</td>\n",
       "      <td>SC22899</td>\n",
       "      <td>6</td>\n",
       "    </tr>\n",
       "    <tr>\n",
       "      <th>541906</th>\n",
       "      <td>581587</td>\n",
       "      <td>SC23254</td>\n",
       "      <td>4</td>\n",
       "    </tr>\n",
       "    <tr>\n",
       "      <th>541907</th>\n",
       "      <td>581587</td>\n",
       "      <td>SC23255</td>\n",
       "      <td>4</td>\n",
       "    </tr>\n",
       "    <tr>\n",
       "      <th>541908</th>\n",
       "      <td>581587</td>\n",
       "      <td>SC22138</td>\n",
       "      <td>3</td>\n",
       "    </tr>\n",
       "  </tbody>\n",
       "</table>\n",
       "</div>"
      ],
      "text/plain": [
       "       InvoiceNo StockCodeSC  Quantity\n",
       "541904    581587     SC22613        12\n",
       "541905    581587     SC22899         6\n",
       "541906    581587     SC23254         4\n",
       "541907    581587     SC23255         4\n",
       "541908    581587     SC22138         3"
      ]
     },
     "execution_count": 9,
     "metadata": {},
     "output_type": "execute_result"
    }
   ],
   "source": [
    "purchase_df.tail()"
   ]
  },
  {
   "cell_type": "code",
   "execution_count": 10,
   "metadata": {},
   "outputs": [],
   "source": [
    "# drop purchases with InvoiceNo starting with 'C'\n",
    "purchase_df = purchase_df[~purchase_df['InvoiceNo'].str.startswith('C')]"
   ]
  },
  {
   "cell_type": "code",
   "execution_count": 11,
   "metadata": {},
   "outputs": [
    {
     "data": {
      "text/html": [
       "<div>\n",
       "<style scoped>\n",
       "    .dataframe tbody tr th:only-of-type {\n",
       "        vertical-align: middle;\n",
       "    }\n",
       "\n",
       "    .dataframe tbody tr th {\n",
       "        vertical-align: top;\n",
       "    }\n",
       "\n",
       "    .dataframe thead th {\n",
       "        text-align: right;\n",
       "    }\n",
       "</style>\n",
       "<table border=\"1\" class=\"dataframe\">\n",
       "  <thead>\n",
       "    <tr style=\"text-align: right;\">\n",
       "      <th></th>\n",
       "      <th>InvoiceNo</th>\n",
       "      <th>InvoiceDate</th>\n",
       "      <th>CustomerID</th>\n",
       "      <th>Country</th>\n",
       "    </tr>\n",
       "  </thead>\n",
       "  <tbody>\n",
       "    <tr>\n",
       "      <th>16</th>\n",
       "      <td>C536379</td>\n",
       "      <td>12/1/10 9:41</td>\n",
       "      <td>14527.0</td>\n",
       "      <td>United Kingdom</td>\n",
       "    </tr>\n",
       "    <tr>\n",
       "      <th>18</th>\n",
       "      <td>C536383</td>\n",
       "      <td>12/1/10 9:49</td>\n",
       "      <td>15311.0</td>\n",
       "      <td>United Kingdom</td>\n",
       "    </tr>\n",
       "    <tr>\n",
       "      <th>26</th>\n",
       "      <td>C536391</td>\n",
       "      <td>12/1/10 10:24</td>\n",
       "      <td>17548.0</td>\n",
       "      <td>United Kingdom</td>\n",
       "    </tr>\n",
       "    <tr>\n",
       "      <th>63</th>\n",
       "      <td>C536506</td>\n",
       "      <td>12/1/10 12:38</td>\n",
       "      <td>17897.0</td>\n",
       "      <td>United Kingdom</td>\n",
       "    </tr>\n",
       "    <tr>\n",
       "      <th>88</th>\n",
       "      <td>C536543</td>\n",
       "      <td>12/1/10 14:30</td>\n",
       "      <td>17841.0</td>\n",
       "      <td>United Kingdom</td>\n",
       "    </tr>\n",
       "    <tr>\n",
       "      <th>...</th>\n",
       "      <td>...</td>\n",
       "      <td>...</td>\n",
       "      <td>...</td>\n",
       "      <td>...</td>\n",
       "    </tr>\n",
       "    <tr>\n",
       "      <th>25903</th>\n",
       "      <td>C581484</td>\n",
       "      <td>12/9/11 9:27</td>\n",
       "      <td>16446.0</td>\n",
       "      <td>United Kingdom</td>\n",
       "    </tr>\n",
       "    <tr>\n",
       "      <th>25909</th>\n",
       "      <td>C581490</td>\n",
       "      <td>12/9/11 9:57</td>\n",
       "      <td>14397.0</td>\n",
       "      <td>United Kingdom</td>\n",
       "    </tr>\n",
       "    <tr>\n",
       "      <th>25918</th>\n",
       "      <td>C581499</td>\n",
       "      <td>12/9/11 10:28</td>\n",
       "      <td>15498.0</td>\n",
       "      <td>United Kingdom</td>\n",
       "    </tr>\n",
       "    <tr>\n",
       "      <th>25927</th>\n",
       "      <td>C581568</td>\n",
       "      <td>12/9/11 11:57</td>\n",
       "      <td>15311.0</td>\n",
       "      <td>United Kingdom</td>\n",
       "    </tr>\n",
       "    <tr>\n",
       "      <th>25928</th>\n",
       "      <td>C581569</td>\n",
       "      <td>12/9/11 11:58</td>\n",
       "      <td>17315.0</td>\n",
       "      <td>United Kingdom</td>\n",
       "    </tr>\n",
       "  </tbody>\n",
       "</table>\n",
       "<p>3837 rows × 4 columns</p>\n",
       "</div>"
      ],
      "text/plain": [
       "      InvoiceNo    InvoiceDate  CustomerID         Country\n",
       "16      C536379   12/1/10 9:41     14527.0  United Kingdom\n",
       "18      C536383   12/1/10 9:49     15311.0  United Kingdom\n",
       "26      C536391  12/1/10 10:24     17548.0  United Kingdom\n",
       "63      C536506  12/1/10 12:38     17897.0  United Kingdom\n",
       "88      C536543  12/1/10 14:30     17841.0  United Kingdom\n",
       "...         ...            ...         ...             ...\n",
       "25903   C581484   12/9/11 9:27     16446.0  United Kingdom\n",
       "25909   C581490   12/9/11 9:57     14397.0  United Kingdom\n",
       "25918   C581499  12/9/11 10:28     15498.0  United Kingdom\n",
       "25927   C581568  12/9/11 11:57     15311.0  United Kingdom\n",
       "25928   C581569  12/9/11 11:58     17315.0  United Kingdom\n",
       "\n",
       "[3837 rows x 4 columns]"
      ]
     },
     "execution_count": 11,
     "metadata": {},
     "output_type": "execute_result"
    }
   ],
   "source": [
    "# invoices that begin with the letter 'c' or 'C'\n",
    "invoice_df[invoice_df['InvoiceNo'].str.startswith('C') |\n",
    "           invoice_df['InvoiceNo'].str.startswith('c')]"
   ]
  },
  {
   "cell_type": "code",
   "execution_count": 12,
   "metadata": {},
   "outputs": [],
   "source": [
    "# discard the rows with above condition\n",
    "invoice_df = invoice_df[~invoice_df['InvoiceNo'].str.startswith('C')]"
   ]
  },
  {
   "cell_type": "code",
   "execution_count": 13,
   "metadata": {},
   "outputs": [
    {
     "data": {
      "text/plain": [
       "(42, 4)"
      ]
     },
     "execution_count": 13,
     "metadata": {},
     "output_type": "execute_result"
    }
   ],
   "source": [
    "# invoice number duplicates\n",
    "invoice_df[invoice_df.duplicated(subset=['InvoiceNo'])].sort_values(\n",
    "    by=['InvoiceNo']).shape"
   ]
  },
  {
   "cell_type": "code",
   "execution_count": 14,
   "metadata": {},
   "outputs": [
    {
     "name": "stdout",
     "output_type": "stream",
     "text": [
      "Count of Invoices in invoice_df:  22064\n"
     ]
    }
   ],
   "source": [
    "# count no of invoices\n",
    "print(\"Count of Invoices in invoice_df: \",invoice_df['InvoiceNo'].nunique())"
   ]
  },
  {
   "cell_type": "markdown",
   "metadata": {},
   "source": [
    "**Ans 1.2**\n",
    "\n",
    "|Invoice Dataset Entries  | 25943 |\n",
    "|--|--|\n",
    "| Cancelled Invoices| 3837 |\n",
    "| Duplicate Invoices | 42 |\n",
    "| Unique Invoices Placed | 22604 |\n"
   ]
  },
  {
   "cell_type": "markdown",
   "metadata": {},
   "source": [
    "**Ans 1.3**"
   ]
  },
  {
   "cell_type": "code",
   "execution_count": 15,
   "metadata": {},
   "outputs": [
    {
     "name": "stdout",
     "output_type": "stream",
     "text": [
      "Count of unique customers in invoice_df:  4339\n"
     ]
    }
   ],
   "source": [
    "# count unique customers\n",
    "print(\"Count of unique customers in invoice_df: \",\n",
    "      invoice_df['CustomerID'].nunique())"
   ]
  },
  {
   "cell_type": "markdown",
   "metadata": {},
   "source": [
    "**Ans 1.4**"
   ]
  },
  {
   "cell_type": "code",
   "execution_count": 16,
   "metadata": {},
   "outputs": [
    {
     "name": "stdout",
     "output_type": "stream",
     "text": [
      "Count of unique items in items_df:  4070\n"
     ]
    }
   ],
   "source": [
    "# count unique items\n",
    "print(\"Count of unique items in items_df: \", items_df['StockCode'].nunique())"
   ]
  },
  {
   "cell_type": "markdown",
   "metadata": {},
   "source": [
    "**Ans 1.5**"
   ]
  },
  {
   "cell_type": "code",
   "execution_count": 17,
   "metadata": {},
   "outputs": [
    {
     "name": "stdout",
     "output_type": "stream",
     "text": [
      "Missing values in invoice_df:\n",
      " {'InvoiceNo': 0, 'InvoiceDate': 0, 'CustomerID': 3540, 'Country': 0}\n",
      "Missing values in items_df:\n",
      " {'StockCode': 0, 'Description': 176, 'UnitPrice': 0}\n",
      "Missing values in purchase_df:\n",
      " {'InvoiceNo': 0, 'StockCodeSC': 0, 'Quantity': 0}\n"
     ]
    }
   ],
   "source": [
    "# identify missing values\n",
    "print(\"Missing values in invoice_df:\\n\", dict(invoice_df.isnull().sum()))\n",
    "print(\"Missing values in items_df:\\n\", dict(items_df.isnull().sum()))\n",
    "print(\"Missing values in purchase_df:\\n\", dict(purchase_df.isnull().sum()))"
   ]
  },
  {
   "cell_type": "markdown",
   "metadata": {},
   "source": [
    "**Ans 1.6**\n",
    "- Total 22064 Invoices have been placed.\n",
    "- There are 4339 unique customers.\n",
    "- The dataset has 4070 unique items\n",
    "- Two columns with null values\n",
    "    1. *CustomerID* in invoice_df: 3722,\n",
    "    2. *Description* in items_df: 176\n",
    "- One way of joining the data sets is\n",
    "    1. Join *invoice_df* and *purchase_df* on *InvoiceNo*\n",
    "    2. Join *items_df* and *purchase_df* on *StockCode*, however, *purchase_df* has a column *StockCodeSC* which seems that it has a prefix of **SC** in every *StockCodeSC* string"
   ]
  },
  {
   "cell_type": "markdown",
   "metadata": {},
   "source": [
    "### <span style=\"color:magenta\"> Q2. [10 points] Invoice Analysis </span>\n",
    "1. For each customer calculate how many total invoices they have placed. List the top 10 customers who have placed an invoice in descending order.\n",
    "2. Perform a similar calculation but instead of the number of invoices, calculate the total quantity of items ordered for each customer. List the top 10 customers in descending order.\n",
    "3. Compare the top 10 customers, does it appear that the more invoices a customer have, the greater the total quantity of items? Explain your reasoning.\n",
    "\n",
    "_Hint: For 2.2, you may need to join two datasets together to answer the question._"
   ]
  },
  {
   "cell_type": "markdown",
   "metadata": {},
   "source": [
    "**Ans 2.1**"
   ]
  },
  {
   "cell_type": "code",
   "execution_count": 18,
   "metadata": {},
   "outputs": [
    {
     "data": {
      "text/plain": [
       "CustomerID\n",
       "12748.0    210\n",
       "14911.0    201\n",
       "17841.0    124\n",
       "13089.0     97\n",
       "14606.0     93\n",
       "15311.0     91\n",
       "12971.0     86\n",
       "14646.0     74\n",
       "16029.0     63\n",
       "13408.0     62\n",
       "18102.0     60\n",
       "Name: InvoiceNo, dtype: int64"
      ]
     },
     "execution_count": 18,
     "metadata": {},
     "output_type": "execute_result"
    }
   ],
   "source": [
    "# put your code here\n",
    "# no of invoices per customer in descending order\n",
    "invoice_df.groupby('CustomerID')['InvoiceNo'].nunique().sort_values(\n",
    "    ascending=False).head(11)"
   ]
  },
  {
   "cell_type": "code",
   "execution_count": 19,
   "metadata": {},
   "outputs": [
    {
     "data": {
      "text/html": [
       "<div>\n",
       "<style scoped>\n",
       "    .dataframe tbody tr th:only-of-type {\n",
       "        vertical-align: middle;\n",
       "    }\n",
       "\n",
       "    .dataframe tbody tr th {\n",
       "        vertical-align: top;\n",
       "    }\n",
       "\n",
       "    .dataframe thead th {\n",
       "        text-align: right;\n",
       "    }\n",
       "</style>\n",
       "<table border=\"1\" class=\"dataframe\">\n",
       "  <thead>\n",
       "    <tr style=\"text-align: right;\">\n",
       "      <th></th>\n",
       "      <th>InvoiceNo</th>\n",
       "      <th>InvoiceDate</th>\n",
       "      <th>CustomerID</th>\n",
       "      <th>Country</th>\n",
       "      <th>StockCodeSC</th>\n",
       "      <th>Quantity</th>\n",
       "    </tr>\n",
       "  </thead>\n",
       "  <tbody>\n",
       "    <tr>\n",
       "      <th>0</th>\n",
       "      <td>536365</td>\n",
       "      <td>12/1/10 8:26</td>\n",
       "      <td>17850.0</td>\n",
       "      <td>United Kingdom</td>\n",
       "      <td>SC85123A</td>\n",
       "      <td>6</td>\n",
       "    </tr>\n",
       "    <tr>\n",
       "      <th>1</th>\n",
       "      <td>536365</td>\n",
       "      <td>12/1/10 8:26</td>\n",
       "      <td>17850.0</td>\n",
       "      <td>United Kingdom</td>\n",
       "      <td>SC71053</td>\n",
       "      <td>6</td>\n",
       "    </tr>\n",
       "    <tr>\n",
       "      <th>2</th>\n",
       "      <td>536365</td>\n",
       "      <td>12/1/10 8:26</td>\n",
       "      <td>17850.0</td>\n",
       "      <td>United Kingdom</td>\n",
       "      <td>SC84406B</td>\n",
       "      <td>8</td>\n",
       "    </tr>\n",
       "    <tr>\n",
       "      <th>3</th>\n",
       "      <td>536365</td>\n",
       "      <td>12/1/10 8:26</td>\n",
       "      <td>17850.0</td>\n",
       "      <td>United Kingdom</td>\n",
       "      <td>SC84029G</td>\n",
       "      <td>6</td>\n",
       "    </tr>\n",
       "    <tr>\n",
       "      <th>4</th>\n",
       "      <td>536365</td>\n",
       "      <td>12/1/10 8:26</td>\n",
       "      <td>17850.0</td>\n",
       "      <td>United Kingdom</td>\n",
       "      <td>SC84029E</td>\n",
       "      <td>6</td>\n",
       "    </tr>\n",
       "  </tbody>\n",
       "</table>\n",
       "</div>"
      ],
      "text/plain": [
       "  InvoiceNo   InvoiceDate  CustomerID         Country StockCodeSC  Quantity\n",
       "0    536365  12/1/10 8:26     17850.0  United Kingdom    SC85123A         6\n",
       "1    536365  12/1/10 8:26     17850.0  United Kingdom     SC71053         6\n",
       "2    536365  12/1/10 8:26     17850.0  United Kingdom    SC84406B         8\n",
       "3    536365  12/1/10 8:26     17850.0  United Kingdom    SC84029G         6\n",
       "4    536365  12/1/10 8:26     17850.0  United Kingdom    SC84029E         6"
      ]
     },
     "execution_count": 19,
     "metadata": {},
     "output_type": "execute_result"
    }
   ],
   "source": [
    "# left join invoice_df and purchase_df\n",
    "invoice_purchase_df = pd.merge(invoice_df, purchase_df,\n",
    "                               on='InvoiceNo', how='left')\n",
    "invoice_purchase_df.head()"
   ]
  },
  {
   "cell_type": "code",
   "execution_count": 20,
   "metadata": {},
   "outputs": [
    {
     "name": "stdout",
     "output_type": "stream",
     "text": [
      "Count of unique invoices in invoice_purchase_df:  22064\n"
     ]
    }
   ],
   "source": [
    "# count unique invoices in invoice_purchase_df\n",
    "print(\"Count of unique invoices in invoice_purchase_df: \",\n",
    "      invoice_purchase_df['InvoiceNo'].nunique())"
   ]
  },
  {
   "cell_type": "markdown",
   "metadata": {},
   "source": [
    "**Ans 2.2**"
   ]
  },
  {
   "cell_type": "code",
   "execution_count": 21,
   "metadata": {},
   "outputs": [
    {
     "data": {
      "text/plain": [
       "CustomerID\n",
       "14646.0    197491\n",
       "14911.0     81009\n",
       "16446.0     80997\n",
       "12415.0     77670\n",
       "12346.0     74215\n",
       "17450.0     69993\n",
       "17511.0     67423\n",
       "18102.0     64124\n",
       "13694.0     63312\n",
       "14298.0     58343\n",
       "14156.0     57885\n",
       "Name: Quantity, dtype: int64"
      ]
     },
     "execution_count": 21,
     "metadata": {},
     "output_type": "execute_result"
    }
   ],
   "source": [
    "# quantity of items per customer in descending order\n",
    "invoice_purchase_df.groupby('CustomerID')['Quantity'].sum().sort_values(\n",
    "    ascending=False).head(11)"
   ]
  },
  {
   "cell_type": "code",
   "execution_count": 22,
   "metadata": {},
   "outputs": [
    {
     "name": "stdout",
     "output_type": "stream",
     "text": [
      "Query 1:  21\n",
      "Query 2:  -9600\n",
      "Min:  -9600\n",
      "Max:  80995\n",
      "Mean:  10.220732697097759\n",
      "Median:  3.0\n"
     ]
    }
   ],
   "source": [
    "# number of invoices for CustomerID 12415\n",
    "print(\"Query 1: \",invoice_purchase_df[invoice_purchase_df['CustomerID']\n",
    "                     == 12415]['InvoiceNo'].nunique())\n",
    "print(\"Query 2: \",invoice_purchase_df[invoice_purchase_df['InvoiceNo']\n",
    "                     == '556691']['Quantity'].sum())\n",
    "\n",
    "# min, max, mean, median of quantity\n",
    "print(\"Min: \", invoice_purchase_df['Quantity'].min())\n",
    "print(\"Max: \", invoice_purchase_df['Quantity'].max())\n",
    "print(\"Mean: \", invoice_purchase_df['Quantity'].mean())\n",
    "print(\"Median: \", invoice_purchase_df['Quantity'].median())"
   ]
  },
  {
   "cell_type": "code",
   "execution_count": 23,
   "metadata": {},
   "outputs": [
    {
     "name": "stdout",
     "output_type": "stream",
     "text": [
      "Invoice with min quantity:  ['556690' '556691']\n"
     ]
    }
   ],
   "source": [
    "# invoice with min quantity\n",
    "print(\"Invoice with min quantity: \",\n",
    "      invoice_purchase_df[invoice_purchase_df['Quantity']\n",
    "                          == invoice_purchase_df['Quantity'].min()]\n",
    "                          ['InvoiceNo'].unique())"
   ]
  },
  {
   "cell_type": "code",
   "execution_count": 24,
   "metadata": {},
   "outputs": [
    {
     "data": {
      "image/png": "[encoded data removed]",
      "text/plain": [
       "<Figure size 1000x200 with 1 Axes>"
      ]
     },
     "metadata": {},
     "output_type": "display_data"
    }
   ],
   "source": [
    "# horizontal boxplot of quantity\n",
    "figure = plt.figure(figsize=(10, 2))\n",
    "plt.boxplot(invoice_purchase_df['Quantity'], vert=False)\n",
    "plt.show()"
   ]
  },
  {
   "cell_type": "code",
   "execution_count": 25,
   "metadata": {},
   "outputs": [
    {
     "data": {
      "text/html": [
       "<div>\n",
       "<style scoped>\n",
       "    .dataframe tbody tr th:only-of-type {\n",
       "        vertical-align: middle;\n",
       "    }\n",
       "\n",
       "    .dataframe tbody tr th {\n",
       "        vertical-align: top;\n",
       "    }\n",
       "\n",
       "    .dataframe thead th {\n",
       "        text-align: right;\n",
       "    }\n",
       "</style>\n",
       "<table border=\"1\" class=\"dataframe\">\n",
       "  <thead>\n",
       "    <tr style=\"text-align: right;\">\n",
       "      <th></th>\n",
       "      <th>CustomerID</th>\n",
       "      <th>Quantity</th>\n",
       "      <th>Invoices</th>\n",
       "    </tr>\n",
       "  </thead>\n",
       "  <tbody>\n",
       "    <tr>\n",
       "      <th>0</th>\n",
       "      <td>14646</td>\n",
       "      <td>196719</td>\n",
       "      <td>74</td>\n",
       "    </tr>\n",
       "    <tr>\n",
       "      <th>1</th>\n",
       "      <td>14911</td>\n",
       "      <td>81009</td>\n",
       "      <td>201</td>\n",
       "    </tr>\n",
       "    <tr>\n",
       "      <th>2</th>\n",
       "      <td>15311</td>\n",
       "      <td>37720</td>\n",
       "      <td>91</td>\n",
       "    </tr>\n",
       "    <tr>\n",
       "      <th>3</th>\n",
       "      <td>18102</td>\n",
       "      <td>64124</td>\n",
       "      <td>60</td>\n",
       "    </tr>\n",
       "    <tr>\n",
       "      <th>4</th>\n",
       "      <td>12415</td>\n",
       "      <td>77670</td>\n",
       "      <td>21</td>\n",
       "    </tr>\n",
       "  </tbody>\n",
       "</table>\n",
       "</div>"
      ],
      "text/plain": [
       "   CustomerID  Quantity  Invoices\n",
       "0       14646    196719        74\n",
       "1       14911     81009       201\n",
       "2       15311     37720        91\n",
       "3       18102     64124        60\n",
       "4       12415     77670        21"
      ]
     },
     "execution_count": 25,
     "metadata": {},
     "output_type": "execute_result"
    }
   ],
   "source": [
    "# create a dataframe\n",
    "CustomerID = [14646, 14911, 15311, 18102, 12415]\n",
    "Quantity = [196719, 81009, 37720, 64124, 77670]\n",
    "Invoices = [74, 201, 91, 60, 21]\n",
    "\n",
    "quantity_items_df = pd.DataFrame(\n",
    "    {'CustomerID': CustomerID, 'Quantity': Quantity, 'Invoices': Invoices})\n",
    "\n",
    "quantity_items_df"
   ]
  },
  {
   "cell_type": "markdown",
   "metadata": {},
   "source": [
    "**Ans 2.3**\n",
    "\n",
    "The Quantity of items is not proportional to the number of Invoices generated. This is shown from:\n",
    "1. CustomerID 14911 and CustomerID 12415 both have around 80k items, but the number of invoices differ by 10 times.\n",
    "2. CustomerID 14646 has larger Quantity of items than CustomerID 14911 but lower number of Invoices\n",
    "3. As per the boxplot, the Quantity of Items per invoice varies exponentially. So it does not suggest a direct relation between them."
   ]
  },
  {
   "cell_type": "markdown",
   "metadata": {},
   "source": [
    "### <span style=\"color:magenta\"> Q3. [10 points] Item Analysis </span>\n",
    "1. What is the average item-unit price? \n",
    "1. What % of items are under $25?\n",
    "1. Generate a histogram of the unit prices. Select reasonable min/max values for the x-axis. Why did you pick those values? What do you notice about the histogram? "
   ]
  },
  {
   "cell_type": "code",
   "execution_count": 26,
   "metadata": {},
   "outputs": [
    {
     "data": {
      "text/html": [
       "<div>\n",
       "<style scoped>\n",
       "    .dataframe tbody tr th:only-of-type {\n",
       "        vertical-align: middle;\n",
       "    }\n",
       "\n",
       "    .dataframe tbody tr th {\n",
       "        vertical-align: top;\n",
       "    }\n",
       "\n",
       "    .dataframe thead th {\n",
       "        text-align: right;\n",
       "    }\n",
       "</style>\n",
       "<table border=\"1\" class=\"dataframe\">\n",
       "  <thead>\n",
       "    <tr style=\"text-align: right;\">\n",
       "      <th></th>\n",
       "      <th>StockCode</th>\n",
       "      <th>Description</th>\n",
       "      <th>UnitPrice</th>\n",
       "    </tr>\n",
       "  </thead>\n",
       "  <tbody>\n",
       "    <tr>\n",
       "      <th>4065</th>\n",
       "      <td>85179a</td>\n",
       "      <td>GREEN BITTY LIGHT CHAIN</td>\n",
       "      <td>2.46</td>\n",
       "    </tr>\n",
       "    <tr>\n",
       "      <th>4066</th>\n",
       "      <td>23617</td>\n",
       "      <td>SET 10 CARDS SWIRLY XMAS TREE 17104</td>\n",
       "      <td>2.91</td>\n",
       "    </tr>\n",
       "    <tr>\n",
       "      <th>4067</th>\n",
       "      <td>90214U</td>\n",
       "      <td>LETTER \"U\" BLING KEY RING</td>\n",
       "      <td>0.29</td>\n",
       "    </tr>\n",
       "    <tr>\n",
       "      <th>4068</th>\n",
       "      <td>47591b</td>\n",
       "      <td>SCOTTIES CHILDRENS APRON</td>\n",
       "      <td>4.13</td>\n",
       "    </tr>\n",
       "    <tr>\n",
       "      <th>4069</th>\n",
       "      <td>23843</td>\n",
       "      <td>PAPER CRAFT , LITTLE BIRDIE</td>\n",
       "      <td>2.08</td>\n",
       "    </tr>\n",
       "  </tbody>\n",
       "</table>\n",
       "</div>"
      ],
      "text/plain": [
       "     StockCode                          Description  UnitPrice\n",
       "4065    85179a              GREEN BITTY LIGHT CHAIN       2.46\n",
       "4066     23617  SET 10 CARDS SWIRLY XMAS TREE 17104       2.91\n",
       "4067    90214U            LETTER \"U\" BLING KEY RING       0.29\n",
       "4068    47591b             SCOTTIES CHILDRENS APRON       4.13\n",
       "4069     23843          PAPER CRAFT , LITTLE BIRDIE       2.08"
      ]
     },
     "execution_count": 26,
     "metadata": {},
     "output_type": "execute_result"
    }
   ],
   "source": [
    "items_df.tail()"
   ]
  },
  {
   "cell_type": "markdown",
   "metadata": {},
   "source": [
    "**Ans 3.1**"
   ]
  },
  {
   "cell_type": "code",
   "execution_count": 27,
   "metadata": {},
   "outputs": [
    {
     "name": "stdout",
     "output_type": "stream",
     "text": [
      "Average item-unit price:  6.91 $\n",
      "Median item-unit price:  2.51 $\n",
      "Min item-unit price:  0.0 $\n",
      "Max item-unit price:  11062.06 $\n"
     ]
    }
   ],
   "source": [
    "# average unit price of items\n",
    "print(\"Average item-unit price: \",\n",
    "      items_df['UnitPrice'].mean().__round__(2), \"$\")\n",
    "print(\"Median item-unit price: \",\n",
    "      items_df['UnitPrice'].median().__round__(2), \"$\")\n",
    "print(\"Min item-unit price: \",\n",
    "      items_df['UnitPrice'].min().__round__(2), \"$\")\n",
    "print(\"Max item-unit price: \",\n",
    "      items_df['UnitPrice'].max().__round__(2), \"$\")"
   ]
  },
  {
   "cell_type": "code",
   "execution_count": 28,
   "metadata": {},
   "outputs": [
    {
     "name": "stdout",
     "output_type": "stream",
     "text": [
      "Number of items under 25$:  4019\n"
     ]
    }
   ],
   "source": [
    "# number of items under 25 $\n",
    "print(\"Number of items under 25$: \",\n",
    "      items_df[items_df['UnitPrice'] < 25]['StockCode'].nunique())"
   ]
  },
  {
   "cell_type": "markdown",
   "metadata": {},
   "source": [
    "**Ans 3.2**"
   ]
  },
  {
   "cell_type": "code",
   "execution_count": 29,
   "metadata": {},
   "outputs": [
    {
     "name": "stdout",
     "output_type": "stream",
     "text": [
      "Percentage of items under 25$:  98.75 %\n"
     ]
    }
   ],
   "source": [
    "# percentage of items under 25 $\n",
    "print(\"Percentage of items under 25$: \",\n",
    "      ((items_df[items_df['UnitPrice'] < 25]['UnitPrice'].count()\n",
    "        / items_df['UnitPrice'].count())).__round__(4)*100, \"%\")"
   ]
  },
  {
   "cell_type": "markdown",
   "metadata": {},
   "source": [
    "**Ans 3.3**"
   ]
  },
  {
   "cell_type": "markdown",
   "metadata": {},
   "source": [
    "#### Step 1/4 : Plotting Histogram\n",
    "First I saw the scope of the Unit-price values by plotting a box plot. This shows concentration of values around lower range i.e. 0-600 \\$ and an outlier >10000 \\$."
   ]
  },
  {
   "cell_type": "code",
   "execution_count": 30,
   "metadata": {},
   "outputs": [
    {
     "data": {
      "image/png": "[encoded data removed]",
      "text/plain": [
       "<Figure size 1000x200 with 1 Axes>"
      ]
     },
     "metadata": {},
     "output_type": "display_data"
    }
   ],
   "source": [
    "# boxplot of unit price\n",
    "figure = plt.figure(figsize=(10, 2))\n",
    "plt.boxplot(items_df['UnitPrice'], vert=False)\n",
    "plt.show()\n"
   ]
  },
  {
   "cell_type": "markdown",
   "metadata": {},
   "source": [
    "#### Step 2/4 : Plotting Histogram\n",
    "Then I decide to plot 0 - 50 \\$ range as a histogram. The histogram is highly skewed with large concentrations of higher values in 0 - 20 \\$ range."
   ]
  },
  {
   "cell_type": "code",
   "execution_count": 31,
   "metadata": {},
   "outputs": [
    {
     "data": {
      "image/png": "[encoded data removed]",
      "text/plain": [
       "<Figure size 1000x1000 with 1 Axes>"
      ]
     },
     "metadata": {},
     "output_type": "display_data"
    }
   ],
   "source": [
    "figure = plt.figure(figsize=(10, 10))\n",
    "plt.hist(items_df['UnitPrice'], bins=10000)\n",
    "plt.xlim(0, 50)\n",
    "# plt.ylim(0, 10)\n",
    "plt.show()"
   ]
  },
  {
   "cell_type": "markdown",
   "metadata": {},
   "source": [
    "#### Step 3/4 : Plotting Histogram\n",
    "In the third setting I have plotted the intermediate range of 20 - 50 $ histogram of unit-prices."
   ]
  },
  {
   "cell_type": "code",
   "execution_count": 32,
   "metadata": {},
   "outputs": [
    {
     "data": {
      "image/png": "[encoded data removed]",
      "text/plain": [
       "<Figure size 1000x500 with 1 Axes>"
      ]
     },
     "metadata": {},
     "output_type": "display_data"
    }
   ],
   "source": [
    "# histogram of unit price\n",
    "figure = plt.figure(figsize=(10, 5))\n",
    "plt.hist(items_df['UnitPrice'], bins=10000)\n",
    "plt.xlim(20, 50)\n",
    "plt.ylim(0, 12.5)\n",
    "plt.show()"
   ]
  },
  {
   "cell_type": "markdown",
   "metadata": {},
   "source": [
    "#### Step 4/4 : Plotting Histogram\n",
    "To get a detailed view of the values beyond that range, I plot histogram of 50 - 600 $ price range with a focus to identify the smaller values, I have reduced the y-axis limit to 6 items."
   ]
  },
  {
   "cell_type": "code",
   "execution_count": 33,
   "metadata": {},
   "outputs": [
    {
     "data": {
      "image/png": "[encoded data removed]",
      "text/plain": [
       "<Figure size 1000x500 with 1 Axes>"
      ]
     },
     "metadata": {},
     "output_type": "display_data"
    }
   ],
   "source": [
    "# put your code here\n",
    "# histogram of unit price\n",
    "figure = plt.figure(figsize=(10, 5))\n",
    "plt.hist(items_df['UnitPrice'], bins=1000)\n",
    "plt.xlim(50, 600)\n",
    "plt.ylim(0, 6)\n",
    "plt.show()\n"
   ]
  },
  {
   "cell_type": "markdown",
   "metadata": {},
   "source": [
    "The histogram plot of UnitPrice values is highly skewed towards right and so was split into three ranges for a better view of visualizing the distribution, the ranges being:\n",
    "1. 0 - 50\n",
    "2. 20 - 50, ylim = 12.5\n",
    "3. 50 - 600, ylim = 6"
   ]
  },
  {
   "cell_type": "markdown",
   "metadata": {},
   "source": [
    "### <span style=\"color:magenta\"> Q4. [25 points] Order Trends </span>\n",
    "1. What are the top 10 most ordered items? Describe them. Do you see any trends?  \n",
    "1. What are the top 5 invoices that generated the most revenue? (Revenue is calculated by \"marking up\" the unit price by 25%.) \n",
    "1. Do the top 5 invoices contain any of the top 10 most ordered items?\n",
    "\n",
    "_Hint: When calculating the revenue we suggest adding a new column on the dataframe._"
   ]
  },
  {
   "cell_type": "code",
   "execution_count": 34,
   "metadata": {},
   "outputs": [
    {
     "data": {
      "text/plain": [
       "532621"
      ]
     },
     "execution_count": 34,
     "metadata": {},
     "output_type": "execute_result"
    }
   ],
   "source": [
    "# check if StockcodeSC in purchase_df has SC in prefix\n",
    "purchase_df[purchase_df['StockCodeSC'].str.startswith('SC')].__len__()"
   ]
  },
  {
   "cell_type": "markdown",
   "metadata": {},
   "source": [
    "Since **all** StockCodeSC begin with 'SC' , I will trim the StockCodeSC before combining the datasets"
   ]
  },
  {
   "cell_type": "code",
   "execution_count": 35,
   "metadata": {},
   "outputs": [
    {
     "data": {
      "text/html": [
       "<div>\n",
       "<style scoped>\n",
       "    .dataframe tbody tr th:only-of-type {\n",
       "        vertical-align: middle;\n",
       "    }\n",
       "\n",
       "    .dataframe tbody tr th {\n",
       "        vertical-align: top;\n",
       "    }\n",
       "\n",
       "    .dataframe thead th {\n",
       "        text-align: right;\n",
       "    }\n",
       "</style>\n",
       "<table border=\"1\" class=\"dataframe\">\n",
       "  <thead>\n",
       "    <tr style=\"text-align: right;\">\n",
       "      <th></th>\n",
       "      <th>InvoiceNo</th>\n",
       "      <th>InvoiceDate</th>\n",
       "      <th>CustomerID</th>\n",
       "      <th>Country</th>\n",
       "      <th>Quantity</th>\n",
       "      <th>StockCode</th>\n",
       "    </tr>\n",
       "  </thead>\n",
       "  <tbody>\n",
       "    <tr>\n",
       "      <th>535960</th>\n",
       "      <td>581587</td>\n",
       "      <td>12/9/11 12:50</td>\n",
       "      <td>12680.0</td>\n",
       "      <td>France</td>\n",
       "      <td>12</td>\n",
       "      <td>22613</td>\n",
       "    </tr>\n",
       "    <tr>\n",
       "      <th>535961</th>\n",
       "      <td>581587</td>\n",
       "      <td>12/9/11 12:50</td>\n",
       "      <td>12680.0</td>\n",
       "      <td>France</td>\n",
       "      <td>6</td>\n",
       "      <td>22899</td>\n",
       "    </tr>\n",
       "    <tr>\n",
       "      <th>535962</th>\n",
       "      <td>581587</td>\n",
       "      <td>12/9/11 12:50</td>\n",
       "      <td>12680.0</td>\n",
       "      <td>France</td>\n",
       "      <td>4</td>\n",
       "      <td>23254</td>\n",
       "    </tr>\n",
       "    <tr>\n",
       "      <th>535963</th>\n",
       "      <td>581587</td>\n",
       "      <td>12/9/11 12:50</td>\n",
       "      <td>12680.0</td>\n",
       "      <td>France</td>\n",
       "      <td>4</td>\n",
       "      <td>23255</td>\n",
       "    </tr>\n",
       "    <tr>\n",
       "      <th>535964</th>\n",
       "      <td>581587</td>\n",
       "      <td>12/9/11 12:50</td>\n",
       "      <td>12680.0</td>\n",
       "      <td>France</td>\n",
       "      <td>3</td>\n",
       "      <td>22138</td>\n",
       "    </tr>\n",
       "  </tbody>\n",
       "</table>\n",
       "</div>"
      ],
      "text/plain": [
       "       InvoiceNo    InvoiceDate  CustomerID Country  Quantity StockCode\n",
       "535960    581587  12/9/11 12:50     12680.0  France        12     22613\n",
       "535961    581587  12/9/11 12:50     12680.0  France         6     22899\n",
       "535962    581587  12/9/11 12:50     12680.0  France         4     23254\n",
       "535963    581587  12/9/11 12:50     12680.0  France         4     23255\n",
       "535964    581587  12/9/11 12:50     12680.0  France         3     22138"
      ]
     },
     "execution_count": 35,
     "metadata": {},
     "output_type": "execute_result"
    }
   ],
   "source": [
    "# trim SC from StockCodeSC\n",
    "invoice_purchase_df['StockCode'] = invoice_purchase_df['StockCodeSC']\\\n",
    "    .str.lstrip('SC')\n",
    "invoice_purchase_df.drop(columns=['StockCodeSC'], inplace=True)\n",
    "invoice_purchase_df.tail()"
   ]
  },
  {
   "cell_type": "code",
   "execution_count": 36,
   "metadata": {},
   "outputs": [
    {
     "data": {
      "text/html": [
       "<div>\n",
       "<style scoped>\n",
       "    .dataframe tbody tr th:only-of-type {\n",
       "        vertical-align: middle;\n",
       "    }\n",
       "\n",
       "    .dataframe tbody tr th {\n",
       "        vertical-align: top;\n",
       "    }\n",
       "\n",
       "    .dataframe thead th {\n",
       "        text-align: right;\n",
       "    }\n",
       "</style>\n",
       "<table border=\"1\" class=\"dataframe\">\n",
       "  <thead>\n",
       "    <tr style=\"text-align: right;\">\n",
       "      <th></th>\n",
       "      <th>InvoiceNo</th>\n",
       "      <th>InvoiceDate</th>\n",
       "      <th>CustomerID</th>\n",
       "      <th>Country</th>\n",
       "      <th>Quantity</th>\n",
       "      <th>StockCode</th>\n",
       "      <th>Description</th>\n",
       "      <th>UnitPrice</th>\n",
       "    </tr>\n",
       "  </thead>\n",
       "  <tbody>\n",
       "    <tr>\n",
       "      <th>535816</th>\n",
       "      <td>579297</td>\n",
       "      <td>11/29/11 11:23</td>\n",
       "      <td>NaN</td>\n",
       "      <td>United Kingdom</td>\n",
       "      <td>1</td>\n",
       "      <td>85179a</td>\n",
       "      <td>GREEN BITTY LIGHT CHAIN</td>\n",
       "      <td>2.46</td>\n",
       "    </tr>\n",
       "    <tr>\n",
       "      <th>535817</th>\n",
       "      <td>579512</td>\n",
       "      <td>11/29/11 16:47</td>\n",
       "      <td>NaN</td>\n",
       "      <td>United Kingdom</td>\n",
       "      <td>2</td>\n",
       "      <td>23617</td>\n",
       "      <td>SET 10 CARDS SWIRLY XMAS TREE 17104</td>\n",
       "      <td>2.91</td>\n",
       "    </tr>\n",
       "    <tr>\n",
       "      <th>535818</th>\n",
       "      <td>580691</td>\n",
       "      <td>12/5/11 15:48</td>\n",
       "      <td>13790.0</td>\n",
       "      <td>United Kingdom</td>\n",
       "      <td>12</td>\n",
       "      <td>90214U</td>\n",
       "      <td>LETTER \"U\" BLING KEY RING</td>\n",
       "      <td>0.29</td>\n",
       "    </tr>\n",
       "    <tr>\n",
       "      <th>535819</th>\n",
       "      <td>581238</td>\n",
       "      <td>12/8/11 10:53</td>\n",
       "      <td>NaN</td>\n",
       "      <td>United Kingdom</td>\n",
       "      <td>1</td>\n",
       "      <td>47591b</td>\n",
       "      <td>SCOTTIES CHILDRENS APRON</td>\n",
       "      <td>4.13</td>\n",
       "    </tr>\n",
       "    <tr>\n",
       "      <th>535820</th>\n",
       "      <td>581483</td>\n",
       "      <td>12/9/11 9:15</td>\n",
       "      <td>16446.0</td>\n",
       "      <td>United Kingdom</td>\n",
       "      <td>80995</td>\n",
       "      <td>23843</td>\n",
       "      <td>PAPER CRAFT , LITTLE BIRDIE</td>\n",
       "      <td>2.08</td>\n",
       "    </tr>\n",
       "  </tbody>\n",
       "</table>\n",
       "</div>"
      ],
      "text/plain": [
       "       InvoiceNo     InvoiceDate  CustomerID         Country  Quantity  \\\n",
       "535816    579297  11/29/11 11:23         NaN  United Kingdom         1   \n",
       "535817    579512  11/29/11 16:47         NaN  United Kingdom         2   \n",
       "535818    580691   12/5/11 15:48     13790.0  United Kingdom        12   \n",
       "535819    581238   12/8/11 10:53         NaN  United Kingdom         1   \n",
       "535820    581483    12/9/11 9:15     16446.0  United Kingdom     80995   \n",
       "\n",
       "       StockCode                          Description  UnitPrice  \n",
       "535816    85179a              GREEN BITTY LIGHT CHAIN       2.46  \n",
       "535817     23617  SET 10 CARDS SWIRLY XMAS TREE 17104       2.91  \n",
       "535818    90214U            LETTER \"U\" BLING KEY RING       0.29  \n",
       "535819    47591b             SCOTTIES CHILDRENS APRON       4.13  \n",
       "535820     23843          PAPER CRAFT , LITTLE BIRDIE       2.08  "
      ]
     },
     "execution_count": 36,
     "metadata": {},
     "output_type": "execute_result"
    }
   ],
   "source": [
    "# merge invoice_purchase_df and items_df\n",
    "invoice_purchase_items_df = pd.merge(\n",
    "    invoice_purchase_df, items_df, on='StockCode')\n",
    "\n",
    "invoice_purchase_items_df.tail()"
   ]
  },
  {
   "cell_type": "markdown",
   "metadata": {},
   "source": [
    "**Ans 4.1**"
   ]
  },
  {
   "cell_type": "code",
   "execution_count": 37,
   "metadata": {},
   "outputs": [
    {
     "data": {
      "text/plain": [
       "Description                         StockCode\n",
       "PAPER CRAFT , LITTLE BIRDIE         23843        80995\n",
       "MEDIUM CERAMIC TOP STORAGE JAR      23166        78033\n",
       "SMALL POPCORN HOLDER                22197        57767\n",
       "WORLD WAR 2 GLIDERS ASSTD DESIGNS   84077        55100\n",
       "JUMBO BAG RED RETROSPOT             85099B       48877\n",
       "WHITE HANGING HEART T-LIGHT HOLDER  85123A       41534\n",
       "PACK OF 72 RETROSPOT CAKE CASES     21212        36502\n",
       "ASSORTED COLOUR BIRD ORNAMENT       84879        36353\n",
       "RABBIT NIGHT LIGHT                  23084        30771\n",
       "MINI PAINT SET VINTAGE              22492        26668\n",
       "PACK OF 12 LONDON TISSUES           22616        26449\n",
       "Name: Quantity, dtype: int64"
      ]
     },
     "execution_count": 37,
     "metadata": {},
     "output_type": "execute_result"
    }
   ],
   "source": [
    "# put your code here\n",
    "# top 10 most ordered items with description and stockcode\n",
    "top_items = invoice_purchase_items_df.groupby(['Description','StockCode'])\\\n",
    "    ['Quantity'].sum().sort_values(ascending=False)\n",
    "top_items.head(11)"
   ]
  },
  {
   "cell_type": "markdown",
   "metadata": {},
   "source": [
    "The list of most ordered items seem to be a birthday party list or a movie night list. It also seems that people are more interested in baking cakes or in decorating their rooms with paints or hanging lights.\n",
    "\n",
    "As the sales are mostly focused around the year end, we could interprete this as a holiday season shopping list."
   ]
  },
  {
   "cell_type": "code",
   "execution_count": 38,
   "metadata": {},
   "outputs": [],
   "source": [
    "# unit price times quantity up by 25 %\n",
    "invoice_purchase_items_df['Revenue'] =\\\n",
    "    (invoice_purchase_items_df['UnitPrice']\n",
    "    * invoice_purchase_items_df['Quantity'])\\\n",
    "    .apply(lambda x: x*1.25)"
   ]
  },
  {
   "cell_type": "markdown",
   "metadata": {},
   "source": [
    "**Ans 4.2**"
   ]
  },
  {
   "cell_type": "code",
   "execution_count": 39,
   "metadata": {},
   "outputs": [
    {
     "data": {
      "text/plain": [
       "InvoiceNo\n",
       "547966    712212.5000\n",
       "581483    210587.0000\n",
       "541431     96479.5000\n",
       "556255     37305.0000\n",
       "556917     34545.9125\n",
       "572035     32872.2000\n",
       "Name: Revenue, dtype: float64"
      ]
     },
     "execution_count": 39,
     "metadata": {},
     "output_type": "execute_result"
    }
   ],
   "source": [
    "# top 5 invoices with highest revenue\n",
    "top_invoices =\\\n",
    "    invoice_purchase_items_df.groupby('InvoiceNo')['Revenue']\\\n",
    "        .sum().sort_values(ascending=False)\n",
    "\n",
    "top_invoices.head(6)"
   ]
  },
  {
   "cell_type": "markdown",
   "metadata": {},
   "source": [
    "To find whether top 5 invoices contain any of the top 10 most ordered items"
   ]
  },
  {
   "cell_type": "code",
   "execution_count": 40,
   "metadata": {},
   "outputs": [
    {
     "data": {
      "text/plain": [
       "['547966', '581483', '541431', '556255', '556917']"
      ]
     },
     "execution_count": 40,
     "metadata": {},
     "output_type": "execute_result"
    }
   ],
   "source": [
    "# get the invoice numbers as a list\n",
    "invoice_list = top_invoices[0:5].index.tolist()\n",
    "invoice_list"
   ]
  },
  {
   "cell_type": "code",
   "execution_count": 41,
   "metadata": {},
   "outputs": [
    {
     "data": {
      "text/plain": [
       "['23843',\n",
       " '23166',\n",
       " '22197',\n",
       " '84077',\n",
       " '85099B',\n",
       " '85123A',\n",
       " '21212',\n",
       " '84879',\n",
       " '23084',\n",
       " '22492']"
      ]
     },
     "execution_count": 41,
     "metadata": {},
     "output_type": "execute_result"
    }
   ],
   "source": [
    "# get description list\n",
    "description_list = top_items.index.get_level_values(1)[0:10].tolist()\n",
    "description_list"
   ]
  },
  {
   "cell_type": "markdown",
   "metadata": {},
   "source": [
    "**Ans 4.3**"
   ]
  },
  {
   "cell_type": "code",
   "execution_count": 42,
   "metadata": {},
   "outputs": [
    {
     "data": {
      "text/html": [
       "<div>\n",
       "<style scoped>\n",
       "    .dataframe tbody tr th:only-of-type {\n",
       "        vertical-align: middle;\n",
       "    }\n",
       "\n",
       "    .dataframe tbody tr th {\n",
       "        vertical-align: top;\n",
       "    }\n",
       "\n",
       "    .dataframe thead th {\n",
       "        text-align: right;\n",
       "    }\n",
       "</style>\n",
       "<table border=\"1\" class=\"dataframe\">\n",
       "  <thead>\n",
       "    <tr style=\"text-align: right;\">\n",
       "      <th></th>\n",
       "      <th>InvoiceNo</th>\n",
       "      <th>StockCode</th>\n",
       "      <th>Description</th>\n",
       "    </tr>\n",
       "  </thead>\n",
       "  <tbody>\n",
       "    <tr>\n",
       "      <th>434473</th>\n",
       "      <td>541431</td>\n",
       "      <td>23166</td>\n",
       "      <td>MEDIUM CERAMIC TOP STORAGE JAR</td>\n",
       "    </tr>\n",
       "    <tr>\n",
       "      <th>38803</th>\n",
       "      <td>556917</td>\n",
       "      <td>21212</td>\n",
       "      <td>PACK OF 72 RETROSPOT CAKE CASES</td>\n",
       "    </tr>\n",
       "    <tr>\n",
       "      <th>22297</th>\n",
       "      <td>556917</td>\n",
       "      <td>22492</td>\n",
       "      <td>MINI PAINT SET VINTAGE</td>\n",
       "    </tr>\n",
       "    <tr>\n",
       "      <th>472477</th>\n",
       "      <td>556917</td>\n",
       "      <td>23084</td>\n",
       "      <td>RABBIT NIGHT LIGHT</td>\n",
       "    </tr>\n",
       "    <tr>\n",
       "      <th>434529</th>\n",
       "      <td>556917</td>\n",
       "      <td>23166</td>\n",
       "      <td>MEDIUM CERAMIC TOP STORAGE JAR</td>\n",
       "    </tr>\n",
       "    <tr>\n",
       "      <th>68922</th>\n",
       "      <td>556917</td>\n",
       "      <td>85099B</td>\n",
       "      <td>JUMBO BAG RED RETROSPOT</td>\n",
       "    </tr>\n",
       "    <tr>\n",
       "      <th>535820</th>\n",
       "      <td>581483</td>\n",
       "      <td>23843</td>\n",
       "      <td>PAPER CRAFT , LITTLE BIRDIE</td>\n",
       "    </tr>\n",
       "  </tbody>\n",
       "</table>\n",
       "</div>"
      ],
      "text/plain": [
       "       InvoiceNo StockCode                      Description\n",
       "434473    541431     23166   MEDIUM CERAMIC TOP STORAGE JAR\n",
       "38803     556917     21212  PACK OF 72 RETROSPOT CAKE CASES\n",
       "22297     556917     22492          MINI PAINT SET VINTAGE \n",
       "472477    556917     23084               RABBIT NIGHT LIGHT\n",
       "434529    556917     23166   MEDIUM CERAMIC TOP STORAGE JAR\n",
       "68922     556917    85099B          JUMBO BAG RED RETROSPOT\n",
       "535820    581483     23843      PAPER CRAFT , LITTLE BIRDIE"
      ]
     },
     "execution_count": 42,
     "metadata": {},
     "output_type": "execute_result"
    }
   ],
   "source": [
    "invoice_purchase_items_df[\n",
    "    invoice_purchase_items_df['InvoiceNo'].isin(invoice_list)\\\n",
    "        & invoice_purchase_items_df['StockCode'].isin(description_list)]\\\n",
    "        .sort_values(by=['InvoiceNo', 'StockCode'])[\n",
    "            ['InvoiceNo', 'StockCode', 'Description']]"
   ]
  },
  {
   "cell_type": "markdown",
   "metadata": {},
   "source": [
    "Three Invoices #541431, #556917 and #581483 contain 1, 5 and 1 items from top 10 list respectively."
   ]
  },
  {
   "cell_type": "markdown",
   "metadata": {},
   "source": [
    "### <span style=\"color:magenta\"> Q5. [30 points] Customer Analysis </span>\n",
    "1. Classify customers into segments based on the total revenue they have generated for the company.\n",
    " * low value: less than \\$1750  \n",
    " * medium value: between 1750 and 8250 dollars\n",
    " * high value: greater than \\$8250\n",
    "1. How many customers are in each segment? \n",
    "1. Using the pivot table function, create a table that displays the average order quantity of each stock code for a given segment.\n",
    "1. Are the items with the highest average order quantity generally the same across segments? Explain your reasoning. \n",
    "1. Choose three items and discuss any trends/differences you notice across the three segments.\n",
    "\n",
    "_Hint: When calculating the segment, we suggest constructing a new dataframe as an intermediary step with the columns: CustomerID, Revenue, Segment._"
   ]
  },
  {
   "cell_type": "markdown",
   "metadata": {},
   "source": [
    "**Ans 5.1**"
   ]
  },
  {
   "cell_type": "code",
   "execution_count": 43,
   "metadata": {},
   "outputs": [
    {
     "name": "stdout",
     "output_type": "stream",
     "text": [
      "Max revenue ($):  510949.95\n"
     ]
    },
    {
     "data": {
      "text/plain": [
       "CustomerSegment\n",
       "Low       2845\n",
       "Medium    1254\n",
       "High       240\n",
       "Name: count, dtype: int64"
      ]
     },
     "execution_count": 43,
     "metadata": {},
     "output_type": "execute_result"
    }
   ],
   "source": [
    "# put your code here\n",
    "# create customer segments based on revenue generated using pd.cut\n",
    "# group by customerID and sum of revenue\n",
    "customer_segments = invoice_purchase_items_df.groupby(\n",
    "    'CustomerID')['Revenue'].sum().__round__(2)\n",
    "\n",
    "print(\"Max revenue ($): \", customer_segments.max())\n",
    "\n",
    "# create a dataframe\n",
    "customer_segments_df = pd.DataFrame(\n",
    "    {'CustomerID': customer_segments.index,\n",
    "    'Total_Revenue_per_Customer': customer_segments.values})\n",
    "\n",
    "# create a new column RevenueSegment\n",
    "customer_segments_df['CustomerSegment'] = pd.cut(\n",
    "    customer_segments_df['Total_Revenue_per_Customer'],\n",
    "    bins=[0, 1750, 8250, customer_segments.max()],\n",
    "    labels=['Low', 'Medium', 'High'])\n",
    "\n",
    "# value counts of customer segments\n",
    "customer_segments_df['CustomerSegment'].value_counts()"
   ]
  },
  {
   "cell_type": "code",
   "execution_count": 44,
   "metadata": {},
   "outputs": [],
   "source": [
    "# Using the pivot table function, create a table that displays the average \n",
    "# order quantity of each stock code for a given segment.\n",
    "\n",
    "# create a new dataframe\n",
    "customer_segments_pivot_df = pd.merge(\n",
    "    invoice_purchase_items_df, customer_segments_df, on='CustomerID')"
   ]
  },
  {
   "cell_type": "markdown",
   "metadata": {},
   "source": [
    "**Ans 5.2**"
   ]
  },
  {
   "cell_type": "code",
   "execution_count": 53,
   "metadata": {},
   "outputs": [
    {
     "data": {
      "text/html": [
       "<div>\n",
       "<style scoped>\n",
       "    .dataframe tbody tr th:only-of-type {\n",
       "        vertical-align: middle;\n",
       "    }\n",
       "\n",
       "    .dataframe tbody tr th {\n",
       "        vertical-align: top;\n",
       "    }\n",
       "\n",
       "    .dataframe thead th {\n",
       "        text-align: right;\n",
       "    }\n",
       "</style>\n",
       "<table border=\"1\" class=\"dataframe\">\n",
       "  <thead>\n",
       "    <tr style=\"text-align: right;\">\n",
       "      <th></th>\n",
       "      <th>CustomerSegment</th>\n",
       "      <th>Low</th>\n",
       "      <th>Medium</th>\n",
       "      <th>High</th>\n",
       "    </tr>\n",
       "    <tr>\n",
       "      <th>StockCode</th>\n",
       "      <th>Description</th>\n",
       "      <th></th>\n",
       "      <th></th>\n",
       "      <th></th>\n",
       "    </tr>\n",
       "  </thead>\n",
       "  <tbody>\n",
       "    <tr>\n",
       "      <th>20735</th>\n",
       "      <th>BLACK MINI TAPE MEASURE</th>\n",
       "      <td>2.000000</td>\n",
       "      <td>2.833333</td>\n",
       "      <td>6.428571</td>\n",
       "    </tr>\n",
       "    <tr>\n",
       "      <th>20757</th>\n",
       "      <th>RED DAISY POCKET BOOK</th>\n",
       "      <td>3.666667</td>\n",
       "      <td>7.076923</td>\n",
       "      <td>3.500000</td>\n",
       "    </tr>\n",
       "    <tr>\n",
       "      <th>21368</th>\n",
       "      <th>MIRRORED WALL ART LADIES</th>\n",
       "      <td>1.500000</td>\n",
       "      <td>5.166667</td>\n",
       "      <td>11.571429</td>\n",
       "    </tr>\n",
       "    <tr>\n",
       "      <th>75172</th>\n",
       "      <th>PAINTED SEA SHELL METAL WINDCHIME</th>\n",
       "      <td>12.800000</td>\n",
       "      <td>9.666667</td>\n",
       "      <td>NaN</td>\n",
       "    </tr>\n",
       "    <tr>\n",
       "      <th>23523</th>\n",
       "      <th>TREASURE AHOY WALL ART</th>\n",
       "      <td>5.375000</td>\n",
       "      <td>3.625000</td>\n",
       "      <td>18.285714</td>\n",
       "    </tr>\n",
       "    <tr>\n",
       "      <th>20974</th>\n",
       "      <th>12 PENCILS SMALL TUBE SKULL</th>\n",
       "      <td>13.241379</td>\n",
       "      <td>13.787500</td>\n",
       "      <td>59.315789</td>\n",
       "    </tr>\n",
       "  </tbody>\n",
       "</table>\n",
       "</div>"
      ],
      "text/plain": [
       "CustomerSegment                                    Low     Medium       High\n",
       "StockCode Description                                                       \n",
       "20735     BLACK MINI TAPE MEASURE             2.000000   2.833333   6.428571\n",
       "20757     RED DAISY POCKET BOOK               3.666667   7.076923   3.500000\n",
       "21368     MIRRORED WALL ART LADIES            1.500000   5.166667  11.571429\n",
       "75172     PAINTED SEA SHELL METAL WINDCHIME  12.800000   9.666667        NaN\n",
       "23523     TREASURE AHOY WALL ART              5.375000   3.625000  18.285714\n",
       "20974     12 PENCILS SMALL TUBE SKULL        13.241379  13.787500  59.315789"
      ]
     },
     "execution_count": 53,
     "metadata": {},
     "output_type": "execute_result"
    }
   ],
   "source": [
    "# pivot table\n",
    "pivot_table = customer_segments_pivot_df.pivot_table(\n",
    "    index=['StockCode','Description'], columns='CustomerSegment',\n",
    "    values='Quantity', aggfunc='mean')\n",
    "\n",
    "pivot_table.sample(6)\n",
    "                                       "
   ]
  },
  {
   "cell_type": "markdown",
   "metadata": {},
   "source": [
    "**Ans 5.3**"
   ]
  },
  {
   "cell_type": "code",
   "execution_count": 54,
   "metadata": {},
   "outputs": [
    {
     "data": {
      "text/html": [
       "<div>\n",
       "<style scoped>\n",
       "    .dataframe tbody tr th:only-of-type {\n",
       "        vertical-align: middle;\n",
       "    }\n",
       "\n",
       "    .dataframe tbody tr th {\n",
       "        vertical-align: top;\n",
       "    }\n",
       "\n",
       "    .dataframe thead th {\n",
       "        text-align: right;\n",
       "    }\n",
       "</style>\n",
       "<table border=\"1\" class=\"dataframe\">\n",
       "  <thead>\n",
       "    <tr style=\"text-align: right;\">\n",
       "      <th></th>\n",
       "      <th>CustomerSegment</th>\n",
       "      <th>Low</th>\n",
       "      <th>Medium</th>\n",
       "      <th>High</th>\n",
       "    </tr>\n",
       "    <tr>\n",
       "      <th>StockCode</th>\n",
       "      <th>Description</th>\n",
       "      <th></th>\n",
       "      <th></th>\n",
       "      <th></th>\n",
       "    </tr>\n",
       "  </thead>\n",
       "  <tbody>\n",
       "    <tr>\n",
       "      <th>23843</th>\n",
       "      <th>PAPER CRAFT , LITTLE BIRDIE</th>\n",
       "      <td>NaN</td>\n",
       "      <td>NaN</td>\n",
       "      <td>80995.000000</td>\n",
       "    </tr>\n",
       "    <tr>\n",
       "      <th>84826</th>\n",
       "      <th>ASSTD DESIGN 3D PAPER STICKERS</th>\n",
       "      <td>15.846154</td>\n",
       "      <td>39.777778</td>\n",
       "      <td>2556.000000</td>\n",
       "    </tr>\n",
       "    <tr>\n",
       "      <th>23166</th>\n",
       "      <th>MEDIUM CERAMIC TOP STORAGE JAR</th>\n",
       "      <td>10.647059</td>\n",
       "      <td>10.873016</td>\n",
       "      <td>912.952381</td>\n",
       "    </tr>\n",
       "    <tr>\n",
       "      <th>84568</th>\n",
       "      <th>GIRLS ALPHABET IRON ON PATCHES</th>\n",
       "      <td>452.571429</td>\n",
       "      <td>288.000000</td>\n",
       "      <td>840.000000</td>\n",
       "    </tr>\n",
       "    <tr>\n",
       "      <th>84422</th>\n",
       "      <th>PINK/BLUE DISC/MIRROR STRING</th>\n",
       "      <td>9.500000</td>\n",
       "      <td>11.000000</td>\n",
       "      <td>480.000000</td>\n",
       "    </tr>\n",
       "    <tr>\n",
       "      <th>16033</th>\n",
       "      <th>MINI HIGHLIGHTER PENS</th>\n",
       "      <td>NaN</td>\n",
       "      <td>120.000000</td>\n",
       "      <td>480.000000</td>\n",
       "    </tr>\n",
       "    <tr>\n",
       "      <th>17003</th>\n",
       "      <th>BROCADE RING PURSE</th>\n",
       "      <td>69.242857</td>\n",
       "      <td>73.546392</td>\n",
       "      <td>261.476190</td>\n",
       "    </tr>\n",
       "  </tbody>\n",
       "</table>\n",
       "</div>"
      ],
      "text/plain": [
       "CustomerSegment                                   Low      Medium  \\\n",
       "StockCode Description                                               \n",
       "23843     PAPER CRAFT , LITTLE BIRDIE             NaN         NaN   \n",
       "84826     ASSTD DESIGN 3D PAPER STICKERS    15.846154   39.777778   \n",
       "23166     MEDIUM CERAMIC TOP STORAGE JAR    10.647059   10.873016   \n",
       "84568     GIRLS ALPHABET IRON ON PATCHES   452.571429  288.000000   \n",
       "84422     PINK/BLUE DISC/MIRROR STRING       9.500000   11.000000   \n",
       "16033     MINI HIGHLIGHTER PENS                   NaN  120.000000   \n",
       "17003     BROCADE RING PURSE                69.242857   73.546392   \n",
       "\n",
       "CustomerSegment                                    High  \n",
       "StockCode Description                                    \n",
       "23843     PAPER CRAFT , LITTLE BIRDIE      80995.000000  \n",
       "84826     ASSTD DESIGN 3D PAPER STICKERS    2556.000000  \n",
       "23166     MEDIUM CERAMIC TOP STORAGE JAR     912.952381  \n",
       "84568     GIRLS ALPHABET IRON ON PATCHES     840.000000  \n",
       "84422     PINK/BLUE DISC/MIRROR STRING       480.000000  \n",
       "16033     MINI HIGHLIGHTER PENS              480.000000  \n",
       "17003     BROCADE RING PURSE                 261.476190  "
      ]
     },
     "execution_count": 54,
     "metadata": {},
     "output_type": "execute_result"
    }
   ],
   "source": [
    "pivot_table.sort_values(by='High', ascending=False).head(7)"
   ]
  },
  {
   "cell_type": "code",
   "execution_count": 55,
   "metadata": {},
   "outputs": [
    {
     "data": {
      "text/html": [
       "<div>\n",
       "<style scoped>\n",
       "    .dataframe tbody tr th:only-of-type {\n",
       "        vertical-align: middle;\n",
       "    }\n",
       "\n",
       "    .dataframe tbody tr th {\n",
       "        vertical-align: top;\n",
       "    }\n",
       "\n",
       "    .dataframe thead th {\n",
       "        text-align: right;\n",
       "    }\n",
       "</style>\n",
       "<table border=\"1\" class=\"dataframe\">\n",
       "  <thead>\n",
       "    <tr style=\"text-align: right;\">\n",
       "      <th></th>\n",
       "      <th>CustomerSegment</th>\n",
       "      <th>Low</th>\n",
       "      <th>Medium</th>\n",
       "      <th>High</th>\n",
       "    </tr>\n",
       "    <tr>\n",
       "      <th>StockCode</th>\n",
       "      <th>Description</th>\n",
       "      <th></th>\n",
       "      <th></th>\n",
       "      <th></th>\n",
       "    </tr>\n",
       "  </thead>\n",
       "  <tbody>\n",
       "    <tr>\n",
       "      <th>18007</th>\n",
       "      <th>ESSENTIAL BALM 3.5g TIN IN ENVELOPE</th>\n",
       "      <td>16.000000</td>\n",
       "      <td>710.000000</td>\n",
       "      <td>24.000000</td>\n",
       "    </tr>\n",
       "    <tr>\n",
       "      <th>16014</th>\n",
       "      <th>SMALL CHINESE STYLE SCISSOR</th>\n",
       "      <td>19.571429</td>\n",
       "      <td>390.636364</td>\n",
       "      <td>23.285714</td>\n",
       "    </tr>\n",
       "    <tr>\n",
       "      <th>84568</th>\n",
       "      <th>GIRLS ALPHABET IRON ON PATCHES</th>\n",
       "      <td>452.571429</td>\n",
       "      <td>288.000000</td>\n",
       "      <td>840.000000</td>\n",
       "    </tr>\n",
       "    <tr>\n",
       "      <th>84598</th>\n",
       "      <th>BOYS ALPHABET IRON ON PATCHES</th>\n",
       "      <td>288.000000</td>\n",
       "      <td>288.000000</td>\n",
       "      <td>192.000000</td>\n",
       "    </tr>\n",
       "    <tr>\n",
       "      <th>22053</th>\n",
       "      <th>EMPIRE DESIGN ROSETTE</th>\n",
       "      <td>10.000000</td>\n",
       "      <td>285.857143</td>\n",
       "      <td>24.250000</td>\n",
       "    </tr>\n",
       "    <tr>\n",
       "      <th>21785</th>\n",
       "      <th>RAIN PONCHO</th>\n",
       "      <td>NaN</td>\n",
       "      <td>204.000000</td>\n",
       "      <td>1.000000</td>\n",
       "    </tr>\n",
       "    <tr>\n",
       "      <th>62018</th>\n",
       "      <th>SOMBRERO</th>\n",
       "      <td>34.533333</td>\n",
       "      <td>147.320000</td>\n",
       "      <td>10.100000</td>\n",
       "    </tr>\n",
       "  </tbody>\n",
       "</table>\n",
       "</div>"
      ],
      "text/plain": [
       "CustomerSegment                                       Low      Medium  \\\n",
       "StockCode Description                                                   \n",
       "18007     ESSENTIAL BALM 3.5g TIN IN ENVELOPE   16.000000  710.000000   \n",
       "16014     SMALL CHINESE STYLE SCISSOR           19.571429  390.636364   \n",
       "84568     GIRLS ALPHABET IRON ON PATCHES       452.571429  288.000000   \n",
       "84598     BOYS ALPHABET IRON ON PATCHES        288.000000  288.000000   \n",
       "22053     EMPIRE DESIGN ROSETTE                 10.000000  285.857143   \n",
       "21785     RAIN PONCHO                                 NaN  204.000000   \n",
       "62018     SOMBRERO                              34.533333  147.320000   \n",
       "\n",
       "CustomerSegment                                      High  \n",
       "StockCode Description                                      \n",
       "18007     ESSENTIAL BALM 3.5g TIN IN ENVELOPE   24.000000  \n",
       "16014     SMALL CHINESE STYLE SCISSOR           23.285714  \n",
       "84568     GIRLS ALPHABET IRON ON PATCHES       840.000000  \n",
       "84598     BOYS ALPHABET IRON ON PATCHES        192.000000  \n",
       "22053     EMPIRE DESIGN ROSETTE                 24.250000  \n",
       "21785     RAIN PONCHO                            1.000000  \n",
       "62018     SOMBRERO                              10.100000  "
      ]
     },
     "execution_count": 55,
     "metadata": {},
     "output_type": "execute_result"
    }
   ],
   "source": [
    "# sort the pivot table by the average order quantity of the Medium segment\n",
    "pivot_table.sort_values(by='Medium', ascending=False).head(7)"
   ]
  },
  {
   "cell_type": "code",
   "execution_count": 56,
   "metadata": {},
   "outputs": [
    {
     "data": {
      "text/html": [
       "<div>\n",
       "<style scoped>\n",
       "    .dataframe tbody tr th:only-of-type {\n",
       "        vertical-align: middle;\n",
       "    }\n",
       "\n",
       "    .dataframe tbody tr th {\n",
       "        vertical-align: top;\n",
       "    }\n",
       "\n",
       "    .dataframe thead th {\n",
       "        text-align: right;\n",
       "    }\n",
       "</style>\n",
       "<table border=\"1\" class=\"dataframe\">\n",
       "  <thead>\n",
       "    <tr style=\"text-align: right;\">\n",
       "      <th></th>\n",
       "      <th>CustomerSegment</th>\n",
       "      <th>Low</th>\n",
       "      <th>Medium</th>\n",
       "      <th>High</th>\n",
       "    </tr>\n",
       "    <tr>\n",
       "      <th>StockCode</th>\n",
       "      <th>Description</th>\n",
       "      <th></th>\n",
       "      <th></th>\n",
       "      <th></th>\n",
       "    </tr>\n",
       "  </thead>\n",
       "  <tbody>\n",
       "    <tr>\n",
       "      <th>17096</th>\n",
       "      <th>ASSORTED LAQUERED INCENSE HOLDERS</th>\n",
       "      <td>516.750000</td>\n",
       "      <td>36.714286</td>\n",
       "      <td>96.000000</td>\n",
       "    </tr>\n",
       "    <tr>\n",
       "      <th>84568</th>\n",
       "      <th>GIRLS ALPHABET IRON ON PATCHES</th>\n",
       "      <td>452.571429</td>\n",
       "      <td>288.000000</td>\n",
       "      <td>840.000000</td>\n",
       "    </tr>\n",
       "    <tr>\n",
       "      <th>84598</th>\n",
       "      <th>BOYS ALPHABET IRON ON PATCHES</th>\n",
       "      <td>288.000000</td>\n",
       "      <td>288.000000</td>\n",
       "      <td>192.000000</td>\n",
       "    </tr>\n",
       "    <tr>\n",
       "      <th>16045</th>\n",
       "      <th>POPART WOODEN PENCILS ASST</th>\n",
       "      <td>151.851852</td>\n",
       "      <td>103.846154</td>\n",
       "      <td>131.250000</td>\n",
       "    </tr>\n",
       "    <tr>\n",
       "      <th>16259</th>\n",
       "      <th>PIECE OF CAMO STATIONERY SET</th>\n",
       "      <td>122.833333</td>\n",
       "      <td>86.166667</td>\n",
       "      <td>124.571429</td>\n",
       "    </tr>\n",
       "    <tr>\n",
       "      <th>17084R</th>\n",
       "      <th>ASSORTED INCENSE PACK</th>\n",
       "      <td>120.000000</td>\n",
       "      <td>80.000000</td>\n",
       "      <td>248.000000</td>\n",
       "    </tr>\n",
       "    <tr>\n",
       "      <th>16049</th>\n",
       "      <th>TEATIME GEL PENS ASST</th>\n",
       "      <td>90.000000</td>\n",
       "      <td>144.000000</td>\n",
       "      <td>90.000000</td>\n",
       "    </tr>\n",
       "  </tbody>\n",
       "</table>\n",
       "</div>"
      ],
      "text/plain": [
       "CustomerSegment                                     Low      Medium  \\\n",
       "StockCode Description                                                 \n",
       "17096     ASSORTED LAQUERED INCENSE HOLDERS  516.750000   36.714286   \n",
       "84568     GIRLS ALPHABET IRON ON PATCHES     452.571429  288.000000   \n",
       "84598     BOYS ALPHABET IRON ON PATCHES      288.000000  288.000000   \n",
       "16045     POPART WOODEN PENCILS ASST         151.851852  103.846154   \n",
       "16259     PIECE OF CAMO STATIONERY SET       122.833333   86.166667   \n",
       "17084R    ASSORTED INCENSE PACK              120.000000   80.000000   \n",
       "16049     TEATIME GEL PENS ASST               90.000000  144.000000   \n",
       "\n",
       "CustomerSegment                                    High  \n",
       "StockCode Description                                    \n",
       "17096     ASSORTED LAQUERED INCENSE HOLDERS   96.000000  \n",
       "84568     GIRLS ALPHABET IRON ON PATCHES     840.000000  \n",
       "84598     BOYS ALPHABET IRON ON PATCHES      192.000000  \n",
       "16045     POPART WOODEN PENCILS ASST         131.250000  \n",
       "16259     PIECE OF CAMO STATIONERY SET       124.571429  \n",
       "17084R    ASSORTED INCENSE PACK              248.000000  \n",
       "16049     TEATIME GEL PENS ASST               90.000000  "
      ]
     },
     "execution_count": 56,
     "metadata": {},
     "output_type": "execute_result"
    }
   ],
   "source": [
    "pivot_table.sort_values(by='Low', ascending=False).head(7)"
   ]
  },
  {
   "cell_type": "markdown",
   "metadata": {},
   "source": [
    "NO.\n",
    "Items with highest average order quantity are not the same across Segments. For example:\n",
    "- StockCode #23843 records for highest quantity in High segment but dose not exist in Medium and Low segment sections\n",
    "- StockCode #84568 is in top 5 for Low and Medium as well as in High segment\n",
    "- StockCode #17096 has highest quantity in Low segment but for Medium and High segments it is quiet low\n",
    "\n"
   ]
  },
  {
   "cell_type": "markdown",
   "metadata": {},
   "source": [
    "**Ans 5.4**"
   ]
  },
  {
   "cell_type": "markdown",
   "metadata": {},
   "source": [
    "- 'PAPER CRAFT , LITTLE BIRDIE' is the item that goes in High segment but not in Medium and Low segment category\n",
    "- 'GIRLS ALPHABET IRON ON PATCHES' is a high revenue collection item in Low, Medium as well as in High segment\n",
    "- 'RAIN PONCHO' mainly exists as a Medium segment item."
   ]
  },
  {
   "cell_type": "markdown",
   "metadata": {},
   "source": [
    "# Please submit your completed notebook in .IPYNB and .HTML formats via Canvas"
   ]
  },
  {
   "cell_type": "markdown",
   "metadata": {},
   "source": [
    "**Disclaimer :** Used Github Copilot for assistance with the code"
   ]
  }
 ],
 "metadata": {
  "kernelspec": {
   "display_name": "Python 3 (ipykernel)",
   "language": "python",
   "name": "python3"
  },
  "language_info": {
   "codemirror_mode": {
    "name": "ipython",
    "version": 3
   },
   "file_extension": ".py",
   "mimetype": "text/x-python",
   "name": "python",
   "nbconvert_exporter": "python",
   "pygments_lexer": "ipython3",
   "version": "3.11.5"
  }
 },
 "nbformat": 4,
 "nbformat_minor": 4
}
